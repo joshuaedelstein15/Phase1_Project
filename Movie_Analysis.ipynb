{
 "cells": [
  {
   "cell_type": "markdown",
   "metadata": {},
   "source": [
    "# Movie Analysis\n",
    "\n",
    "## Introduction\n",
    "Microsoft has decided to create a new movie studio, and has tasked us  with exploring what types of films are currently doing the best at the box office. We will analyze the market based on a few different metrics and present microsoft with our findings as well as offer insights on the current market.\n",
    "\n",
    "## Objectives\n",
    "We will analyze the market from different angles:\n",
    "- First, we will examine the correlation between different metrics.\n",
    "- Next, we will analyze the numbers, and which genres are making the most money.\n",
    "- Then, we will take a look at which genre is making the greatest percent profit.\n",
    "- We will then identify if the length of movie has any affect on its ratings.\n",
    "- Next, we will move on the see overall ratings by genre.\n",
    "- Then, we will determine if there is a relationship between ratings and profit.\n",
    "- Finally, we will offer overall recommendations."
   ]
  },
  {
   "cell_type": "markdown",
   "metadata": {},
   "source": [
    "<div>\n",
    "<img src=\"Images/movie.jpg\", width = 600, height = 300/>\n",
    "</div>\n",
    "\n",
    "Photo by <a href=\"https://unsplash.com/photos/q8P8YoR6erg\">GR stocks</a> on <a href=\"/@grstocks\">Unsplash</a>"
   ]
  },
  {
   "cell_type": "markdown",
   "metadata": {},
   "source": [
    "### Data Understanding\n",
    "The data we are using is from two sources. Firstly, we are using a sql dataset from IMDB which contains non-monetary information for over 70,000 movies. The next dataset is a much smaller csv file containing budgeting information regarding just under 6000 movies.\n",
    "\n",
    "### Business Understanding\n",
    "\n",
    "We will be analyzing success based on gross earnings, production budget, and ratings.\n",
    "\n",
    "The overall business questions we are trying to answer are:\n",
    "\n",
    "1. What is the influence of budget on overall profit?\n",
    "2. What are the more profitable genres?\n",
    "3. What is the distribution of movie runtimes, and how does runtime affect ratings?\n",
    "4. What is the relationship between ratings and genre?\n",
    "5. What is the relationship between profit and ratings?"
   ]
  },
  {
   "cell_type": "markdown",
   "metadata": {},
   "source": [
    "## 1. Loading the data\n",
    "We begin by importing all the necessary packages to do the research."
   ]
  },
  {
   "cell_type": "code",
   "execution_count": 1,
   "metadata": {},
   "outputs": [],
   "source": [
    "import sqlite3\n",
    "import math\n",
    "import pandas as pd\n",
    "import datetime as dt\n",
    "import numpy as np\n",
    "import seaborn as sns\n",
    "import matplotlib.pyplot as plt\n",
    "%matplotlib inline\n",
    "from pandasql import sqldf\n",
    "pysqldf = lambda q: sqldf(q, globals())"
   ]
  },
  {
   "cell_type": "markdown",
   "metadata": {},
   "source": [
    "### IMDB statistics\n",
    "\n",
    "We then load the required database from IMDB. This contains basic non-monetary information about different movies."
   ]
  },
  {
   "cell_type": "code",
   "execution_count": 2,
   "metadata": {
    "scrolled": false
   },
   "outputs": [
    {
     "name": "stdout",
     "output_type": "stream",
     "text": [
      "<class 'pandas.core.frame.DataFrame'>\n",
      "RangeIndex: 73856 entries, 0 to 73855\n",
      "Data columns (total 5 columns):\n",
      " #   Column           Non-Null Count  Dtype  \n",
      "---  ------           --------------  -----  \n",
      " 0   original_title   73856 non-null  object \n",
      " 1   start_year       73856 non-null  int64  \n",
      " 2   runtime_minutes  66236 non-null  float64\n",
      " 3   genres           73052 non-null  object \n",
      " 4   averagerating    73856 non-null  float64\n",
      "dtypes: float64(2), int64(1), object(2)\n",
      "memory usage: 2.8+ MB\n"
     ]
    },
    {
     "data": {
      "text/html": [
       "<div>\n",
       "<style scoped>\n",
       "    .dataframe tbody tr th:only-of-type {\n",
       "        vertical-align: middle;\n",
       "    }\n",
       "\n",
       "    .dataframe tbody tr th {\n",
       "        vertical-align: top;\n",
       "    }\n",
       "\n",
       "    .dataframe thead th {\n",
       "        text-align: right;\n",
       "    }\n",
       "</style>\n",
       "<table border=\"1\" class=\"dataframe\">\n",
       "  <thead>\n",
       "    <tr style=\"text-align: right;\">\n",
       "      <th></th>\n",
       "      <th>original_title</th>\n",
       "      <th>start_year</th>\n",
       "      <th>runtime_minutes</th>\n",
       "      <th>genres</th>\n",
       "      <th>averagerating</th>\n",
       "    </tr>\n",
       "  </thead>\n",
       "  <tbody>\n",
       "    <tr>\n",
       "      <th>0</th>\n",
       "      <td>Sunghursh</td>\n",
       "      <td>2013</td>\n",
       "      <td>175.0</td>\n",
       "      <td>Action,Crime,Drama</td>\n",
       "      <td>7.0</td>\n",
       "    </tr>\n",
       "    <tr>\n",
       "      <th>1</th>\n",
       "      <td>Ashad Ka Ek Din</td>\n",
       "      <td>2019</td>\n",
       "      <td>114.0</td>\n",
       "      <td>Biography,Drama</td>\n",
       "      <td>7.2</td>\n",
       "    </tr>\n",
       "    <tr>\n",
       "      <th>2</th>\n",
       "      <td>The Other Side of the Wind</td>\n",
       "      <td>2018</td>\n",
       "      <td>122.0</td>\n",
       "      <td>Drama</td>\n",
       "      <td>6.9</td>\n",
       "    </tr>\n",
       "    <tr>\n",
       "      <th>3</th>\n",
       "      <td>Sabse Bada Sukh</td>\n",
       "      <td>2018</td>\n",
       "      <td>NaN</td>\n",
       "      <td>Comedy,Drama</td>\n",
       "      <td>6.1</td>\n",
       "    </tr>\n",
       "    <tr>\n",
       "      <th>4</th>\n",
       "      <td>La Telenovela Errante</td>\n",
       "      <td>2017</td>\n",
       "      <td>80.0</td>\n",
       "      <td>Comedy,Drama,Fantasy</td>\n",
       "      <td>6.5</td>\n",
       "    </tr>\n",
       "  </tbody>\n",
       "</table>\n",
       "</div>"
      ],
      "text/plain": [
       "               original_title  start_year  runtime_minutes  \\\n",
       "0                   Sunghursh        2013            175.0   \n",
       "1             Ashad Ka Ek Din        2019            114.0   \n",
       "2  The Other Side of the Wind        2018            122.0   \n",
       "3             Sabse Bada Sukh        2018              NaN   \n",
       "4       La Telenovela Errante        2017             80.0   \n",
       "\n",
       "                 genres  averagerating  \n",
       "0    Action,Crime,Drama            7.0  \n",
       "1       Biography,Drama            7.2  \n",
       "2                 Drama            6.9  \n",
       "3          Comedy,Drama            6.1  \n",
       "4  Comedy,Drama,Fantasy            6.5  "
      ]
     },
     "execution_count": 2,
     "metadata": {},
     "output_type": "execute_result"
    }
   ],
   "source": [
    "conn = sqlite3.connect(\"Data/im.db\")\n",
    "imdb_df = pd.read_sql(\"\"\"\n",
    "Select original_title, start_year, runtime_minutes, genres, averagerating\n",
    "from movie_basics\n",
    "join movie_ratings\n",
    "    using(movie_id)\n",
    "\"\"\",conn)\n",
    "imdb_df.info()\n",
    "imdb_df.head()"
   ]
  },
  {
   "cell_type": "markdown",
   "metadata": {},
   "source": [
    "### Movie Budget\n",
    "\n",
    "Next, we load a much smaller dataframe which contains a csv file with budgeting information."
   ]
  },
  {
   "cell_type": "code",
   "execution_count": 3,
   "metadata": {},
   "outputs": [
    {
     "name": "stdout",
     "output_type": "stream",
     "text": [
      "<class 'pandas.core.frame.DataFrame'>\n",
      "RangeIndex: 5782 entries, 0 to 5781\n",
      "Data columns (total 6 columns):\n",
      " #   Column             Non-Null Count  Dtype \n",
      "---  ------             --------------  ----- \n",
      " 0   id                 5782 non-null   int64 \n",
      " 1   release_date       5782 non-null   object\n",
      " 2   movie              5782 non-null   object\n",
      " 3   production_budget  5782 non-null   object\n",
      " 4   domestic_gross     5782 non-null   object\n",
      " 5   worldwide_gross    5782 non-null   object\n",
      "dtypes: int64(1), object(5)\n",
      "memory usage: 271.2+ KB\n"
     ]
    },
    {
     "data": {
      "text/html": [
       "<div>\n",
       "<style scoped>\n",
       "    .dataframe tbody tr th:only-of-type {\n",
       "        vertical-align: middle;\n",
       "    }\n",
       "\n",
       "    .dataframe tbody tr th {\n",
       "        vertical-align: top;\n",
       "    }\n",
       "\n",
       "    .dataframe thead th {\n",
       "        text-align: right;\n",
       "    }\n",
       "</style>\n",
       "<table border=\"1\" class=\"dataframe\">\n",
       "  <thead>\n",
       "    <tr style=\"text-align: right;\">\n",
       "      <th></th>\n",
       "      <th>id</th>\n",
       "      <th>release_date</th>\n",
       "      <th>movie</th>\n",
       "      <th>production_budget</th>\n",
       "      <th>domestic_gross</th>\n",
       "      <th>worldwide_gross</th>\n",
       "    </tr>\n",
       "  </thead>\n",
       "  <tbody>\n",
       "    <tr>\n",
       "      <th>0</th>\n",
       "      <td>1</td>\n",
       "      <td>Dec 18, 2009</td>\n",
       "      <td>Avatar</td>\n",
       "      <td>$425,000,000</td>\n",
       "      <td>$760,507,625</td>\n",
       "      <td>$2,776,345,279</td>\n",
       "    </tr>\n",
       "    <tr>\n",
       "      <th>1</th>\n",
       "      <td>2</td>\n",
       "      <td>May 20, 2011</td>\n",
       "      <td>Pirates of the Caribbean: On Stranger Tides</td>\n",
       "      <td>$410,600,000</td>\n",
       "      <td>$241,063,875</td>\n",
       "      <td>$1,045,663,875</td>\n",
       "    </tr>\n",
       "    <tr>\n",
       "      <th>2</th>\n",
       "      <td>3</td>\n",
       "      <td>Jun 7, 2019</td>\n",
       "      <td>Dark Phoenix</td>\n",
       "      <td>$350,000,000</td>\n",
       "      <td>$42,762,350</td>\n",
       "      <td>$149,762,350</td>\n",
       "    </tr>\n",
       "    <tr>\n",
       "      <th>3</th>\n",
       "      <td>4</td>\n",
       "      <td>May 1, 2015</td>\n",
       "      <td>Avengers: Age of Ultron</td>\n",
       "      <td>$330,600,000</td>\n",
       "      <td>$459,005,868</td>\n",
       "      <td>$1,403,013,963</td>\n",
       "    </tr>\n",
       "    <tr>\n",
       "      <th>4</th>\n",
       "      <td>5</td>\n",
       "      <td>Dec 15, 2017</td>\n",
       "      <td>Star Wars Ep. VIII: The Last Jedi</td>\n",
       "      <td>$317,000,000</td>\n",
       "      <td>$620,181,382</td>\n",
       "      <td>$1,316,721,747</td>\n",
       "    </tr>\n",
       "  </tbody>\n",
       "</table>\n",
       "</div>"
      ],
      "text/plain": [
       "   id  release_date                                        movie  \\\n",
       "0   1  Dec 18, 2009                                       Avatar   \n",
       "1   2  May 20, 2011  Pirates of the Caribbean: On Stranger Tides   \n",
       "2   3   Jun 7, 2019                                 Dark Phoenix   \n",
       "3   4   May 1, 2015                      Avengers: Age of Ultron   \n",
       "4   5  Dec 15, 2017            Star Wars Ep. VIII: The Last Jedi   \n",
       "\n",
       "  production_budget domestic_gross worldwide_gross  \n",
       "0      $425,000,000   $760,507,625  $2,776,345,279  \n",
       "1      $410,600,000   $241,063,875  $1,045,663,875  \n",
       "2      $350,000,000    $42,762,350    $149,762,350  \n",
       "3      $330,600,000   $459,005,868  $1,403,013,963  \n",
       "4      $317,000,000   $620,181,382  $1,316,721,747  "
      ]
     },
     "execution_count": 3,
     "metadata": {},
     "output_type": "execute_result"
    }
   ],
   "source": [
    "money_df= pd.read_csv('Data/tn.movie_budgets.csv')\n",
    "money_df.info()\n",
    "money_df.head()"
   ]
  },
  {
   "cell_type": "markdown",
   "metadata": {},
   "source": [
    "## 2. Joining the databases\n",
    "\n",
    "To analyze the budgeting data by genre we need to join the 2 databases together.\n",
    "\n",
    "A problem may arise if we join the databases by title alone, as there may be a few movies with the same name that will incorrectly join with the other database. To avoid this issue we will join the databases by 2 different columns. Since the odds of two movies being released in the same year with the same name are very low, we will also join by release year. \n",
    "\n",
    "First, we need to create new column in the budget dataframe that contains just the year that the movie was released without the full date."
   ]
  },
  {
   "cell_type": "code",
   "execution_count": 4,
   "metadata": {
    "scrolled": true
   },
   "outputs": [
    {
     "data": {
      "text/html": [
       "<div>\n",
       "<style scoped>\n",
       "    .dataframe tbody tr th:only-of-type {\n",
       "        vertical-align: middle;\n",
       "    }\n",
       "\n",
       "    .dataframe tbody tr th {\n",
       "        vertical-align: top;\n",
       "    }\n",
       "\n",
       "    .dataframe thead th {\n",
       "        text-align: right;\n",
       "    }\n",
       "</style>\n",
       "<table border=\"1\" class=\"dataframe\">\n",
       "  <thead>\n",
       "    <tr style=\"text-align: right;\">\n",
       "      <th></th>\n",
       "      <th>id</th>\n",
       "      <th>release_date</th>\n",
       "      <th>movie</th>\n",
       "      <th>production_budget</th>\n",
       "      <th>domestic_gross</th>\n",
       "      <th>worldwide_gross</th>\n",
       "      <th>start_year</th>\n",
       "    </tr>\n",
       "  </thead>\n",
       "  <tbody>\n",
       "    <tr>\n",
       "      <th>0</th>\n",
       "      <td>1</td>\n",
       "      <td>Dec 18, 2009</td>\n",
       "      <td>Avatar</td>\n",
       "      <td>$425,000,000</td>\n",
       "      <td>$760,507,625</td>\n",
       "      <td>$2,776,345,279</td>\n",
       "      <td>2009</td>\n",
       "    </tr>\n",
       "    <tr>\n",
       "      <th>1</th>\n",
       "      <td>2</td>\n",
       "      <td>May 20, 2011</td>\n",
       "      <td>Pirates of the Caribbean: On Stranger Tides</td>\n",
       "      <td>$410,600,000</td>\n",
       "      <td>$241,063,875</td>\n",
       "      <td>$1,045,663,875</td>\n",
       "      <td>2011</td>\n",
       "    </tr>\n",
       "    <tr>\n",
       "      <th>2</th>\n",
       "      <td>3</td>\n",
       "      <td>Jun 7, 2019</td>\n",
       "      <td>Dark Phoenix</td>\n",
       "      <td>$350,000,000</td>\n",
       "      <td>$42,762,350</td>\n",
       "      <td>$149,762,350</td>\n",
       "      <td>2019</td>\n",
       "    </tr>\n",
       "    <tr>\n",
       "      <th>3</th>\n",
       "      <td>4</td>\n",
       "      <td>May 1, 2015</td>\n",
       "      <td>Avengers: Age of Ultron</td>\n",
       "      <td>$330,600,000</td>\n",
       "      <td>$459,005,868</td>\n",
       "      <td>$1,403,013,963</td>\n",
       "      <td>2015</td>\n",
       "    </tr>\n",
       "    <tr>\n",
       "      <th>4</th>\n",
       "      <td>5</td>\n",
       "      <td>Dec 15, 2017</td>\n",
       "      <td>Star Wars Ep. VIII: The Last Jedi</td>\n",
       "      <td>$317,000,000</td>\n",
       "      <td>$620,181,382</td>\n",
       "      <td>$1,316,721,747</td>\n",
       "      <td>2017</td>\n",
       "    </tr>\n",
       "  </tbody>\n",
       "</table>\n",
       "</div>"
      ],
      "text/plain": [
       "   id  release_date                                        movie  \\\n",
       "0   1  Dec 18, 2009                                       Avatar   \n",
       "1   2  May 20, 2011  Pirates of the Caribbean: On Stranger Tides   \n",
       "2   3   Jun 7, 2019                                 Dark Phoenix   \n",
       "3   4   May 1, 2015                      Avengers: Age of Ultron   \n",
       "4   5  Dec 15, 2017            Star Wars Ep. VIII: The Last Jedi   \n",
       "\n",
       "  production_budget domestic_gross worldwide_gross  start_year  \n",
       "0      $425,000,000   $760,507,625  $2,776,345,279        2009  \n",
       "1      $410,600,000   $241,063,875  $1,045,663,875        2011  \n",
       "2      $350,000,000    $42,762,350    $149,762,350        2019  \n",
       "3      $330,600,000   $459,005,868  $1,403,013,963        2015  \n",
       "4      $317,000,000   $620,181,382  $1,316,721,747        2017  "
      ]
     },
     "execution_count": 4,
     "metadata": {},
     "output_type": "execute_result"
    }
   ],
   "source": [
    "money_df['start_year'] = pd.DatetimeIndex(money_df['release_date']).year\n",
    "money_df.head()"
   ]
  },
  {
   "cell_type": "markdown",
   "metadata": {},
   "source": [
    "The join will be much smoother if the columns we are joining on have the same name. To accomplish this, we change the column name in the imdb dataframe, from `original_title` to `movie`."
   ]
  },
  {
   "cell_type": "code",
   "execution_count": 5,
   "metadata": {
    "scrolled": true
   },
   "outputs": [
    {
     "data": {
      "text/html": [
       "<div>\n",
       "<style scoped>\n",
       "    .dataframe tbody tr th:only-of-type {\n",
       "        vertical-align: middle;\n",
       "    }\n",
       "\n",
       "    .dataframe tbody tr th {\n",
       "        vertical-align: top;\n",
       "    }\n",
       "\n",
       "    .dataframe thead th {\n",
       "        text-align: right;\n",
       "    }\n",
       "</style>\n",
       "<table border=\"1\" class=\"dataframe\">\n",
       "  <thead>\n",
       "    <tr style=\"text-align: right;\">\n",
       "      <th></th>\n",
       "      <th>movie</th>\n",
       "      <th>start_year</th>\n",
       "      <th>runtime_minutes</th>\n",
       "      <th>genres</th>\n",
       "      <th>averagerating</th>\n",
       "    </tr>\n",
       "  </thead>\n",
       "  <tbody>\n",
       "    <tr>\n",
       "      <th>0</th>\n",
       "      <td>Sunghursh</td>\n",
       "      <td>2013</td>\n",
       "      <td>175.0</td>\n",
       "      <td>Action,Crime,Drama</td>\n",
       "      <td>7.0</td>\n",
       "    </tr>\n",
       "    <tr>\n",
       "      <th>1</th>\n",
       "      <td>Ashad Ka Ek Din</td>\n",
       "      <td>2019</td>\n",
       "      <td>114.0</td>\n",
       "      <td>Biography,Drama</td>\n",
       "      <td>7.2</td>\n",
       "    </tr>\n",
       "    <tr>\n",
       "      <th>2</th>\n",
       "      <td>The Other Side of the Wind</td>\n",
       "      <td>2018</td>\n",
       "      <td>122.0</td>\n",
       "      <td>Drama</td>\n",
       "      <td>6.9</td>\n",
       "    </tr>\n",
       "    <tr>\n",
       "      <th>3</th>\n",
       "      <td>Sabse Bada Sukh</td>\n",
       "      <td>2018</td>\n",
       "      <td>NaN</td>\n",
       "      <td>Comedy,Drama</td>\n",
       "      <td>6.1</td>\n",
       "    </tr>\n",
       "    <tr>\n",
       "      <th>4</th>\n",
       "      <td>La Telenovela Errante</td>\n",
       "      <td>2017</td>\n",
       "      <td>80.0</td>\n",
       "      <td>Comedy,Drama,Fantasy</td>\n",
       "      <td>6.5</td>\n",
       "    </tr>\n",
       "  </tbody>\n",
       "</table>\n",
       "</div>"
      ],
      "text/plain": [
       "                        movie  start_year  runtime_minutes  \\\n",
       "0                   Sunghursh        2013            175.0   \n",
       "1             Ashad Ka Ek Din        2019            114.0   \n",
       "2  The Other Side of the Wind        2018            122.0   \n",
       "3             Sabse Bada Sukh        2018              NaN   \n",
       "4       La Telenovela Errante        2017             80.0   \n",
       "\n",
       "                 genres  averagerating  \n",
       "0    Action,Crime,Drama            7.0  \n",
       "1       Biography,Drama            7.2  \n",
       "2                 Drama            6.9  \n",
       "3          Comedy,Drama            6.1  \n",
       "4  Comedy,Drama,Fantasy            6.5  "
      ]
     },
     "execution_count": 5,
     "metadata": {},
     "output_type": "execute_result"
    }
   ],
   "source": [
    "imdb_df.rename(columns={'original_title': 'movie'}, inplace = True)\n",
    "imdb_df.head()"
   ]
  },
  {
   "cell_type": "markdown",
   "metadata": {},
   "source": [
    "Finally, we can perform the join using both the `movie` column and the `start_year` column, to create a new dataframe called `money_genre_df`."
   ]
  },
  {
   "cell_type": "code",
   "execution_count": 6,
   "metadata": {
    "scrolled": false
   },
   "outputs": [
    {
     "name": "stdout",
     "output_type": "stream",
     "text": [
      "<class 'pandas.core.frame.DataFrame'>\n",
      "Int64Index: 1489 entries, 0 to 1488\n",
      "Data columns (total 10 columns):\n",
      " #   Column             Non-Null Count  Dtype  \n",
      "---  ------             --------------  -----  \n",
      " 0   movie              1489 non-null   object \n",
      " 1   start_year         1489 non-null   int64  \n",
      " 2   runtime_minutes    1481 non-null   float64\n",
      " 3   genres             1487 non-null   object \n",
      " 4   averagerating      1489 non-null   float64\n",
      " 5   id                 1489 non-null   int64  \n",
      " 6   release_date       1489 non-null   object \n",
      " 7   production_budget  1489 non-null   object \n",
      " 8   domestic_gross     1489 non-null   object \n",
      " 9   worldwide_gross    1489 non-null   object \n",
      "dtypes: float64(2), int64(2), object(6)\n",
      "memory usage: 128.0+ KB\n"
     ]
    },
    {
     "data": {
      "text/html": [
       "<div>\n",
       "<style scoped>\n",
       "    .dataframe tbody tr th:only-of-type {\n",
       "        vertical-align: middle;\n",
       "    }\n",
       "\n",
       "    .dataframe tbody tr th {\n",
       "        vertical-align: top;\n",
       "    }\n",
       "\n",
       "    .dataframe thead th {\n",
       "        text-align: right;\n",
       "    }\n",
       "</style>\n",
       "<table border=\"1\" class=\"dataframe\">\n",
       "  <thead>\n",
       "    <tr style=\"text-align: right;\">\n",
       "      <th></th>\n",
       "      <th>movie</th>\n",
       "      <th>start_year</th>\n",
       "      <th>runtime_minutes</th>\n",
       "      <th>genres</th>\n",
       "      <th>averagerating</th>\n",
       "      <th>id</th>\n",
       "      <th>release_date</th>\n",
       "      <th>production_budget</th>\n",
       "      <th>domestic_gross</th>\n",
       "      <th>worldwide_gross</th>\n",
       "    </tr>\n",
       "  </thead>\n",
       "  <tbody>\n",
       "    <tr>\n",
       "      <th>0</th>\n",
       "      <td>Foodfight!</td>\n",
       "      <td>2012</td>\n",
       "      <td>91.0</td>\n",
       "      <td>Action,Animation,Comedy</td>\n",
       "      <td>1.9</td>\n",
       "      <td>26</td>\n",
       "      <td>Dec 31, 2012</td>\n",
       "      <td>$45,000,000</td>\n",
       "      <td>$0</td>\n",
       "      <td>$73,706</td>\n",
       "    </tr>\n",
       "    <tr>\n",
       "      <th>1</th>\n",
       "      <td>The Secret Life of Walter Mitty</td>\n",
       "      <td>2013</td>\n",
       "      <td>114.0</td>\n",
       "      <td>Adventure,Comedy,Drama</td>\n",
       "      <td>7.3</td>\n",
       "      <td>37</td>\n",
       "      <td>Dec 25, 2013</td>\n",
       "      <td>$91,000,000</td>\n",
       "      <td>$58,236,838</td>\n",
       "      <td>$187,861,183</td>\n",
       "    </tr>\n",
       "  </tbody>\n",
       "</table>\n",
       "</div>"
      ],
      "text/plain": [
       "                             movie  start_year  runtime_minutes  \\\n",
       "0                       Foodfight!        2012             91.0   \n",
       "1  The Secret Life of Walter Mitty        2013            114.0   \n",
       "\n",
       "                    genres  averagerating  id  release_date production_budget  \\\n",
       "0  Action,Animation,Comedy            1.9  26  Dec 31, 2012       $45,000,000   \n",
       "1   Adventure,Comedy,Drama            7.3  37  Dec 25, 2013       $91,000,000   \n",
       "\n",
       "  domestic_gross worldwide_gross  \n",
       "0             $0         $73,706  \n",
       "1    $58,236,838    $187,861,183  "
      ]
     },
     "execution_count": 6,
     "metadata": {},
     "output_type": "execute_result"
    }
   ],
   "source": [
    "money_genre_df = imdb_df.merge(money_df, on=['movie','start_year'], how='inner')\n",
    "money_genre_df.info()\n",
    "money_genre_df.head(2)"
   ]
  },
  {
   "cell_type": "markdown",
   "metadata": {},
   "source": [
    "The new data frame contains far fewer values then both original data frames, with only 1489 movies. However, this is not an issue as the new data frames is a random sample of the original data frames with no bias as to which movies were selected.\n",
    "\n",
    "Although, we assumed that there were no movies with the same name released in the same year, we should still double check to make sure there are no duplicate values."
   ]
  },
  {
   "cell_type": "code",
   "execution_count": 7,
   "metadata": {
    "scrolled": true
   },
   "outputs": [
    {
     "data": {
      "text/plain": [
       "False    1489\n",
       "dtype: int64"
      ]
     },
     "execution_count": 7,
     "metadata": {},
     "output_type": "execute_result"
    }
   ],
   "source": [
    "money_genre_df.duplicated(keep=False).value_counts()"
   ]
  },
  {
   "cell_type": "markdown",
   "metadata": {},
   "source": [
    "## 3. Editing the data\n",
    "\n",
    "In order to analyze the monetary data we will need to use the `production_budget`, `domestic_gross`, and `worldwide_gross` columns. Upon taking a closer look we realize that these columns are strings instead of the integer values that we want.\n",
    "\n",
    "### Fixing the values\n",
    "\n",
    "To change the values from string to integer:\n",
    "\n",
    "1. We need to strip the value of the `$` sign\n",
    "2. We need remove all the commas from within the strings\n",
    "3. Finally, we can convert the values from string to integers"
   ]
  },
  {
   "cell_type": "code",
   "execution_count": 8,
   "metadata": {
    "scrolled": true
   },
   "outputs": [
    {
     "data": {
      "text/html": [
       "<div>\n",
       "<style scoped>\n",
       "    .dataframe tbody tr th:only-of-type {\n",
       "        vertical-align: middle;\n",
       "    }\n",
       "\n",
       "    .dataframe tbody tr th {\n",
       "        vertical-align: top;\n",
       "    }\n",
       "\n",
       "    .dataframe thead th {\n",
       "        text-align: right;\n",
       "    }\n",
       "</style>\n",
       "<table border=\"1\" class=\"dataframe\">\n",
       "  <thead>\n",
       "    <tr style=\"text-align: right;\">\n",
       "      <th></th>\n",
       "      <th>movie</th>\n",
       "      <th>start_year</th>\n",
       "      <th>runtime_minutes</th>\n",
       "      <th>genres</th>\n",
       "      <th>averagerating</th>\n",
       "      <th>id</th>\n",
       "      <th>release_date</th>\n",
       "      <th>production_budget</th>\n",
       "      <th>domestic_gross</th>\n",
       "      <th>worldwide_gross</th>\n",
       "    </tr>\n",
       "  </thead>\n",
       "  <tbody>\n",
       "    <tr>\n",
       "      <th>0</th>\n",
       "      <td>Foodfight!</td>\n",
       "      <td>2012</td>\n",
       "      <td>91.0</td>\n",
       "      <td>Action,Animation,Comedy</td>\n",
       "      <td>1.9</td>\n",
       "      <td>26</td>\n",
       "      <td>Dec 31, 2012</td>\n",
       "      <td>45000000</td>\n",
       "      <td>0</td>\n",
       "      <td>73706</td>\n",
       "    </tr>\n",
       "    <tr>\n",
       "      <th>1</th>\n",
       "      <td>The Secret Life of Walter Mitty</td>\n",
       "      <td>2013</td>\n",
       "      <td>114.0</td>\n",
       "      <td>Adventure,Comedy,Drama</td>\n",
       "      <td>7.3</td>\n",
       "      <td>37</td>\n",
       "      <td>Dec 25, 2013</td>\n",
       "      <td>91000000</td>\n",
       "      <td>58236838</td>\n",
       "      <td>187861183</td>\n",
       "    </tr>\n",
       "    <tr>\n",
       "      <th>2</th>\n",
       "      <td>A Walk Among the Tombstones</td>\n",
       "      <td>2014</td>\n",
       "      <td>114.0</td>\n",
       "      <td>Action,Crime,Drama</td>\n",
       "      <td>6.5</td>\n",
       "      <td>67</td>\n",
       "      <td>Sep 19, 2014</td>\n",
       "      <td>28000000</td>\n",
       "      <td>26017685</td>\n",
       "      <td>62108587</td>\n",
       "    </tr>\n",
       "    <tr>\n",
       "      <th>3</th>\n",
       "      <td>Jurassic World</td>\n",
       "      <td>2015</td>\n",
       "      <td>124.0</td>\n",
       "      <td>Action,Adventure,Sci-Fi</td>\n",
       "      <td>7.0</td>\n",
       "      <td>34</td>\n",
       "      <td>Jun 12, 2015</td>\n",
       "      <td>215000000</td>\n",
       "      <td>652270625</td>\n",
       "      <td>1648854864</td>\n",
       "    </tr>\n",
       "    <tr>\n",
       "      <th>4</th>\n",
       "      <td>The Rum Diary</td>\n",
       "      <td>2011</td>\n",
       "      <td>119.0</td>\n",
       "      <td>Comedy,Drama</td>\n",
       "      <td>6.2</td>\n",
       "      <td>16</td>\n",
       "      <td>Oct 28, 2011</td>\n",
       "      <td>45000000</td>\n",
       "      <td>13109815</td>\n",
       "      <td>21544732</td>\n",
       "    </tr>\n",
       "  </tbody>\n",
       "</table>\n",
       "</div>"
      ],
      "text/plain": [
       "                             movie  start_year  runtime_minutes  \\\n",
       "0                       Foodfight!        2012             91.0   \n",
       "1  The Secret Life of Walter Mitty        2013            114.0   \n",
       "2      A Walk Among the Tombstones        2014            114.0   \n",
       "3                   Jurassic World        2015            124.0   \n",
       "4                    The Rum Diary        2011            119.0   \n",
       "\n",
       "                    genres  averagerating  id  release_date  \\\n",
       "0  Action,Animation,Comedy            1.9  26  Dec 31, 2012   \n",
       "1   Adventure,Comedy,Drama            7.3  37  Dec 25, 2013   \n",
       "2       Action,Crime,Drama            6.5  67  Sep 19, 2014   \n",
       "3  Action,Adventure,Sci-Fi            7.0  34  Jun 12, 2015   \n",
       "4             Comedy,Drama            6.2  16  Oct 28, 2011   \n",
       "\n",
       "   production_budget  domestic_gross  worldwide_gross  \n",
       "0           45000000               0            73706  \n",
       "1           91000000        58236838        187861183  \n",
       "2           28000000        26017685         62108587  \n",
       "3          215000000       652270625       1648854864  \n",
       "4           45000000        13109815         21544732  "
      ]
     },
     "execution_count": 8,
     "metadata": {},
     "output_type": "execute_result"
    }
   ],
   "source": [
    "money_stuff=['production_budget', 'domestic_gross', 'worldwide_gross']\n",
    "for value in money_stuff:\n",
    "    money_genre_df[value] = money_genre_df[value].str.strip('$')\n",
    "    money_genre_df[value] = money_genre_df[value].str.replace(',','')\n",
    "    money_genre_df[value] = pd.to_numeric(money_genre_df[value])\n",
    "money_genre_df.head()"
   ]
  },
  {
   "cell_type": "markdown",
   "metadata": {},
   "source": [
    "## 4. Data Analysis\n",
    "\n",
    "Besides for the raw amount of money that each movie grossed it is useful to know what percent profit the movie gained in comparison to how much they put in. We accomplish this by creating a new column `ROI` which divides the `worldwide_gross` by the `production_budget`. This will show us the profit multiple/ how many times greater a movie's profit was then its budget.\n",
    "\n",
    "Additionally, we don't want to include movies that had a very small budget as they can skew our data. As such, we will only include movies with a budget of atleast 1 million dollars. "
   ]
  },
  {
   "cell_type": "code",
   "execution_count": 9,
   "metadata": {},
   "outputs": [
    {
     "data": {
      "text/html": [
       "<div>\n",
       "<style scoped>\n",
       "    .dataframe tbody tr th:only-of-type {\n",
       "        vertical-align: middle;\n",
       "    }\n",
       "\n",
       "    .dataframe tbody tr th {\n",
       "        vertical-align: top;\n",
       "    }\n",
       "\n",
       "    .dataframe thead th {\n",
       "        text-align: right;\n",
       "    }\n",
       "</style>\n",
       "<table border=\"1\" class=\"dataframe\">\n",
       "  <thead>\n",
       "    <tr style=\"text-align: right;\">\n",
       "      <th></th>\n",
       "      <th>movie</th>\n",
       "      <th>genres</th>\n",
       "      <th>runtime_minutes</th>\n",
       "      <th>averagerating</th>\n",
       "      <th>production_budget</th>\n",
       "      <th>domestic_gross</th>\n",
       "      <th>worldwide_gross</th>\n",
       "      <th>ROI</th>\n",
       "    </tr>\n",
       "  </thead>\n",
       "  <tbody>\n",
       "    <tr>\n",
       "      <th>0</th>\n",
       "      <td>The Devil Inside</td>\n",
       "      <td>Horror</td>\n",
       "      <td>83.0</td>\n",
       "      <td>4.2</td>\n",
       "      <td>1000000</td>\n",
       "      <td>53262945</td>\n",
       "      <td>101759490</td>\n",
       "      <td>101.76</td>\n",
       "    </tr>\n",
       "    <tr>\n",
       "      <th>1</th>\n",
       "      <td>Paranormal Activity 2</td>\n",
       "      <td>Horror</td>\n",
       "      <td>91.0</td>\n",
       "      <td>5.7</td>\n",
       "      <td>3000000</td>\n",
       "      <td>84752907</td>\n",
       "      <td>177512032</td>\n",
       "      <td>59.17</td>\n",
       "    </tr>\n",
       "    <tr>\n",
       "      <th>2</th>\n",
       "      <td>Get Out</td>\n",
       "      <td>Horror,Mystery,Thriller</td>\n",
       "      <td>104.0</td>\n",
       "      <td>7.7</td>\n",
       "      <td>5000000</td>\n",
       "      <td>176040665</td>\n",
       "      <td>255367951</td>\n",
       "      <td>51.07</td>\n",
       "    </tr>\n",
       "    <tr>\n",
       "      <th>3</th>\n",
       "      <td>Moonlight</td>\n",
       "      <td>Drama</td>\n",
       "      <td>111.0</td>\n",
       "      <td>7.4</td>\n",
       "      <td>1500000</td>\n",
       "      <td>27854931</td>\n",
       "      <td>65245512</td>\n",
       "      <td>43.50</td>\n",
       "    </tr>\n",
       "    <tr>\n",
       "      <th>4</th>\n",
       "      <td>Chernobyl Diaries</td>\n",
       "      <td>Horror,Mystery,Thriller</td>\n",
       "      <td>86.0</td>\n",
       "      <td>5.0</td>\n",
       "      <td>1000000</td>\n",
       "      <td>18119640</td>\n",
       "      <td>42411721</td>\n",
       "      <td>42.41</td>\n",
       "    </tr>\n",
       "  </tbody>\n",
       "</table>\n",
       "</div>"
      ],
      "text/plain": [
       "                   movie                   genres  runtime_minutes  \\\n",
       "0       The Devil Inside                   Horror             83.0   \n",
       "1  Paranormal Activity 2                   Horror             91.0   \n",
       "2                Get Out  Horror,Mystery,Thriller            104.0   \n",
       "3              Moonlight                    Drama            111.0   \n",
       "4      Chernobyl Diaries  Horror,Mystery,Thriller             86.0   \n",
       "\n",
       "   averagerating  production_budget  domestic_gross  worldwide_gross     ROI  \n",
       "0            4.2            1000000        53262945        101759490  101.76  \n",
       "1            5.7            3000000        84752907        177512032   59.17  \n",
       "2            7.7            5000000       176040665        255367951   51.07  \n",
       "3            7.4            1500000        27854931         65245512   43.50  \n",
       "4            5.0            1000000        18119640         42411721   42.41  "
      ]
     },
     "execution_count": 9,
     "metadata": {},
     "output_type": "execute_result"
    }
   ],
   "source": [
    "q = \"\"\"\n",
    "Select movie, genres, runtime_minutes, averagerating, production_budget, domestic_gross, worldwide_gross, \n",
    "round(worldwide_gross*1.0/production_budget*1.0,2) as ROI\n",
    "from money_genre_df\n",
    "Where production_budget >= 1000000\n",
    "order by ROI desc \n",
    "\"\"\"\n",
    "movie_stats=pysqldf(q)\n",
    "movie_stats.head(5)"
   ]
  },
  {
   "cell_type": "markdown",
   "metadata": {},
   "source": [
    "### Monetary analysis\n",
    "First, we will compare the relationship between each movie's gross profit and the budget. We will do this by calculating the correlation coefficient as well as plotting the relationship on a scatter plot. "
   ]
  },
  {
   "cell_type": "code",
   "execution_count": 10,
   "metadata": {
    "scrolled": false
   },
   "outputs": [
    {
     "name": "stdout",
     "output_type": "stream",
     "text": [
      "The correlation coefficient between gross profit and budget is: 0.78\n"
     ]
    },
    {
     "data": {
      "image/png": "[encoded data removed]",
      "text/plain": [
       "<Figure size 432x288 with 1 Axes>"
      ]
     },
     "metadata": {
      "needs_background": "light"
     },
     "output_type": "display_data"
    }
   ],
   "source": [
    "print('The correlation coefficient between gross profit and budget is:',\n",
    "       round(np.corrcoef(movie_stats['worldwide_gross'], \n",
    "       movie_stats['production_budget'])[0][1],2))\n",
    "\n",
    "sns.regplot(data=movie_stats, \n",
    "            x=movie_stats['production_budget'], \n",
    "            y=movie_stats['worldwide_gross'],\n",
    "            ci= None,\n",
    "            scatter_kws= {'s': 10, 'alpha': .5},\n",
    "            line_kws={'lw': 1, 'color': 'black'})\n",
    "plt.xlabel('Budget(USD)')\n",
    "plt.ylabel('Profit(USD)')\n",
    "plt.ticklabel_format(style ='plain')\n",
    "plt.xticks(rotation=45);"
   ]
  },
  {
   "cell_type": "markdown",
   "metadata": {},
   "source": [
    "The correlation between the 2 values is above .7, this means there is a strong positive correlation between gross profit and production.<!-- https://journals.lww.com/anesthesia-analgesia/fulltext/2018/05000/correlation_coefficients__appropriate_use_and.50.aspx\n",
    " --> The scatterplot illustrates this point as we see the best fit line as an increasing slope. This is useful information as it shows that the more money that is spent on the film the greater the profit. \n",
    " \n",
    "Although, this was helpful, it will be more useful to figure out the relationship between the budget and profit multiple. This value will show us, from a business perspective, whether one should invest a lot into a movie in hopes of exponentially multiplying their investment."
   ]
  },
  {
   "cell_type": "code",
   "execution_count": 11,
   "metadata": {},
   "outputs": [
    {
     "name": "stdout",
     "output_type": "stream",
     "text": [
      "The correlation coefficient between gross profit and budget is: -0.05\n"
     ]
    },
    {
     "data": {
      "image/png": "[encoded data removed]",
      "text/plain": [
       "<Figure size 432x288 with 1 Axes>"
      ]
     },
     "metadata": {
      "needs_background": "light"
     },
     "output_type": "display_data"
    }
   ],
   "source": [
    "print('The correlation coefficient between gross profit and budget is:',\n",
    "       round(np.corrcoef(movie_stats['ROI'], \n",
    "       movie_stats['production_budget'])[0][1],2))\n",
    "\n",
    "sns.regplot(data=movie_stats, \n",
    "            x=movie_stats['production_budget'], \n",
    "            y=movie_stats['ROI'],\n",
    "            ci= None,\n",
    "            scatter_kws= {'s': 10, 'alpha': .5},\n",
    "            line_kws={'lw': 1, 'color': 'black'})\n",
    "plt.plot([0, 410000000], [0, 0], linewidth=1.5, alpha=.7)\n",
    "plt.xlabel('Budget(USD)')\n",
    "plt.ylabel('ROI(USD)')\n",
    "plt.ticklabel_format(style ='plain')\n",
    "plt.xticks(rotation=45);"
   ]
  },
  {
   "cell_type": "markdown",
   "metadata": {},
   "source": [
    "Since the correlation coefficient is below .1 there is negligible correlation between these factors. This shows that from an investors perspective, if interested in multiplying your investment, the size of your budget will not play a major role. \n",
    "\n",
    "We also see some of the movies, with smaller budgets multiplied their investment substantially more times than the movies with the higher budgets. On the other hand we see that the lower budget movies had more times where the movie ended up with a loss on their investment.\n",
    "\n",
    "When we look at the higher budget movies we find that there are virtually no movies that multiplied their investment by more than 10. However, there are also much fewer movies that had a loss on their investment.\n",
    "\n",
    "What comes out, is that lower budget movies are higher risk and higher reward. As there is a greater chance of making a tremendous profit, but also a greater chance of losing money. While, making a movie with a higher budget is a much safer investment. In that the profit will probably be a small multiple of the amount that one invests in the budget.\n",
    "\n",
    "### Monetary Analysis by genre\n",
    "\n",
    "Now lets break up all the films into genres to see how profit differs between genres. \n",
    "\n",
    "We will begin by checking out all the values in the `genre` column."
   ]
  },
  {
   "cell_type": "code",
   "execution_count": 12,
   "metadata": {
    "scrolled": true
   },
   "outputs": [
    {
     "data": {
      "text/plain": [
       "Adventure,Animation,Comedy    68\n",
       "Comedy                        51\n",
       "Action,Adventure,Sci-Fi       49\n",
       "Drama                         46\n",
       "Comedy,Drama                  45\n",
       "                              ..\n",
       "Action,Fantasy,Western         1\n",
       "Action,Family,Fantasy          1\n",
       "Adventure,Drama,History        1\n",
       "Romance,Sci-Fi,Thriller        1\n",
       "Comedy,Drama,Sport             1\n",
       "Name: genres, Length: 220, dtype: int64"
      ]
     },
     "execution_count": 12,
     "metadata": {},
     "output_type": "execute_result"
    }
   ],
   "source": [
    "movie_stats.genres.value_counts()"
   ]
  },
  {
   "cell_type": "markdown",
   "metadata": {},
   "source": [
    "Clearly it will not be helpful to do analysis on each of the 220 individual genres. Additionally, there are some categories with only one movie with that specific genre. As a result, we cannot learn anything from it, as it is much too small of a sample size. \n",
    "\n",
    "Due to this issue, we will run a sql query which breaks the genres up into five main genre dataframes: `Action`, `Comedy`, `Drama`, `Horror`, and `Romance`. We will then use those to create new dataframes which contain just the gross profit for each genre."
   ]
  },
  {
   "cell_type": "code",
   "execution_count": 13,
   "metadata": {
    "scrolled": true
   },
   "outputs": [],
   "source": [
    "a = \"\"\"\n",
    "Select movie, genres, averagerating, production_budget, domestic_gross, worldwide_gross,\n",
    "round(worldwide_gross*1.0/production_budget*1.0,2) as ROI\n",
    "from movie_stats\n",
    "Where genres like '%Drama%'\n",
    "\"\"\"\n",
    "b = \"\"\"\n",
    "Select movie, genres, averagerating, production_budget, domestic_gross, worldwide_gross,\n",
    "round(worldwide_gross*1.0/production_budget*1.0,2) as ROI\n",
    "from movie_stats\n",
    "Where genres like '%Horror%'\n",
    "\"\"\"\n",
    "c = \"\"\"\n",
    "Select movie, genres, averagerating, production_budget, domestic_gross, worldwide_gross,\n",
    "round(worldwide_gross*1.0/production_budget*1.0,2) as ROI\n",
    "from movie_stats\n",
    "Where genres like '%Comedy%'\n",
    "\"\"\"\n",
    "d = \"\"\"\n",
    "Select movie, genres, averagerating, production_budget, domestic_gross, worldwide_gross,\n",
    "round(worldwide_gross*1.0/production_budget*1.0,2) as ROI\n",
    "from movie_stats\n",
    "Where genres like '%Action%'\n",
    "\"\"\"\n",
    "e = \"\"\"\n",
    "Select movie, genres, averagerating, production_budget, domestic_gross, worldwide_gross,\n",
    "round(worldwide_gross*1.0/production_budget*1.0,2) as ROI\n",
    "from movie_stats\n",
    "Where genres like '%Romance%'\n",
    "\"\"\"\n",
    "df_drama = pysqldf(a)\n",
    "df_horror = pysqldf(b)\n",
    "df_comedy = pysqldf(c)\n",
    "df_action = pysqldf(d)\n",
    "df_romance = pysqldf(e)\n",
    "\n",
    "drama_gross = df_drama.worldwide_gross\n",
    "horror_gross = df_horror.worldwide_gross\n",
    "comedy_gross = df_comedy.worldwide_gross\n",
    "action_gross = df_action.worldwide_gross\n",
    "romance_gross = df_romance.worldwide_gross"
   ]
  },
  {
   "cell_type": "markdown",
   "metadata": {},
   "source": [
    "We will now run a check to make sure these loaded properly."
   ]
  },
  {
   "cell_type": "code",
   "execution_count": 14,
   "metadata": {},
   "outputs": [
    {
     "data": {
      "text/plain": [
       "0    307166834\n",
       "1     16566240\n",
       "2    570998101\n",
       "3     80504421\n",
       "4    215448997\n",
       "Name: worldwide_gross, dtype: int64"
      ]
     },
     "execution_count": 14,
     "metadata": {},
     "output_type": "execute_result"
    }
   ],
   "source": [
    "romance_gross.head()"
   ]
  },
  {
   "cell_type": "markdown",
   "metadata": {},
   "source": [
    "Now we will create a histogram of gross profit for each genre. To accomplish this more efficiently we will create three different lists. The first will contain a text version of each genre, this will be used to label the x-axis. The second will contain each of the five new dataframes containing the gross profit. The third will contain five different colors, which will be used to differentiate between the histograms. Finally, we can create a for loop to plot the five different histograms. Additionally, each histogram will contain a vertical line at the mean of each dataset."
   ]
  },
  {
   "cell_type": "code",
   "execution_count": 15,
   "metadata": {
    "scrolled": false
   },
   "outputs": [
    {
     "data": {
      "image/png": "[encoded data removed]",
      "text/plain": [
       "<Figure size 1440x864 with 5 Axes>"
      ]
     },
     "metadata": {
      "needs_background": "light"
     },
     "output_type": "display_data"
    }
   ],
   "source": [
    "txt_genres=['Drama', 'Horror', 'Comedy', 'Action', 'Romance']\n",
    "genre_gross = [drama_gross, horror_gross, comedy_gross, action_gross, romance_gross]\n",
    "colors = ['cyan', 'yellow', 'gray', 'magenta', 'green']\n",
    "\n",
    "plt.figure(figsize=(20,12))\n",
    "i=0\n",
    "for g,c,u in zip(genre_gross, colors, txt_genres):\n",
    "    i = i+1\n",
    "    mean = g.mean()\n",
    "    plt.subplot(3,2,i)\n",
    "    plt.hist(g, color=c,histtype='bar')\n",
    "    plt.axvline(mean, color='black', label = 'mean = {}'.format(round(mean,2)))\n",
    "    plt.xlabel(u)\n",
    "    plt.ylabel('Profit')\n",
    "    plt.legend()"
   ]
  },
  {
   "cell_type": "markdown",
   "metadata": {},
   "source": [
    "Interestingly, all the histograms roughly have the same shape, this shape seems to indicate that profit falls into the pareto distribution.<!-- https://www.youtube.com/watch?v=EAynHZE-lK4 --> Meaning that the minority of movies account for the vast majority of the profit. Additionally, it appears that the genres of action and comedy are the most profitable, while drama, horror, and romance are less profitable.\n",
    "\n",
    "However, these results may be a function of how much on average each genre is spending on their movies. To investigate this, let's find the average gross vs profit for each genre."
   ]
  },
  {
   "cell_type": "code",
   "execution_count": 16,
   "metadata": {},
   "outputs": [
    {
     "name": "stdout",
     "output_type": "stream",
     "text": [
      "The profit multiple for drama is: 3.2\n",
      "The profit multiple for horror is: 7.01\n",
      "The profit multiple for comedy is: 3.14\n",
      "The profit multiple for action is: 2.63\n",
      "The profit multiple for romance is: 3.29\n"
     ]
    }
   ],
   "source": [
    "drama_multiple = df_drama.ROI\n",
    "horror_multiple = df_horror.ROI\n",
    "comedy_multiple = df_comedy.ROI\n",
    "action_multiple = df_action.ROI\n",
    "romance_multiple = df_romance.ROI\n",
    "\n",
    "multiples = [drama_multiple, horror_multiple, comedy_multiple, action_multiple, romance_multiple]\n",
    "\n",
    "for g, m in zip(txt_genres, multiples):\n",
    "    print('The profit multiple for {} is: {}'.format(g.lower(), round(m.mean(),2)))"
   ]
  },
  {
   "cell_type": "markdown",
   "metadata": {},
   "source": [
    "As we predicted the budget for action movies is much greater on average then for other genres. As such the average profit multiple for action movies is the lowest of all the genres. Another significant finding from our data is that although horror movies average gross was standard compared to the other genres, their average budget was far lower then the other genres. As such their profit multiple is atleast double all the other values. This demonstrates that when looking for the best investment, it pays to create a lower budget horror movie."
   ]
  },
  {
   "cell_type": "markdown",
   "metadata": {},
   "source": [
    "### Different Way to break up genres\n",
    "We will now break the data up into genres, and do analysis based on that."
   ]
  },
  {
   "cell_type": "code",
   "execution_count": 52,
   "metadata": {},
   "outputs": [],
   "source": [
    "stats_copy = movie_stats"
   ]
  },
  {
   "cell_type": "markdown",
   "metadata": {},
   "source": [
    "We'll start by splitting all the genres into a list of all the genres for that movie"
   ]
  },
  {
   "cell_type": "code",
   "execution_count": 37,
   "metadata": {},
   "outputs": [
    {
     "data": {
      "text/html": [
       "<div>\n",
       "<style scoped>\n",
       "    .dataframe tbody tr th:only-of-type {\n",
       "        vertical-align: middle;\n",
       "    }\n",
       "\n",
       "    .dataframe tbody tr th {\n",
       "        vertical-align: top;\n",
       "    }\n",
       "\n",
       "    .dataframe thead th {\n",
       "        text-align: right;\n",
       "    }\n",
       "</style>\n",
       "<table border=\"1\" class=\"dataframe\">\n",
       "  <thead>\n",
       "    <tr style=\"text-align: right;\">\n",
       "      <th></th>\n",
       "      <th>movie</th>\n",
       "      <th>genres</th>\n",
       "      <th>runtime_minutes</th>\n",
       "      <th>averagerating</th>\n",
       "      <th>production_budget</th>\n",
       "      <th>domestic_gross</th>\n",
       "      <th>worldwide_gross</th>\n",
       "      <th>ROI</th>\n",
       "      <th>new_genre</th>\n",
       "    </tr>\n",
       "  </thead>\n",
       "  <tbody>\n",
       "    <tr>\n",
       "      <th>0</th>\n",
       "      <td>The Devil Inside</td>\n",
       "      <td>Horror</td>\n",
       "      <td>83.0</td>\n",
       "      <td>4.2</td>\n",
       "      <td>1000000</td>\n",
       "      <td>53262945</td>\n",
       "      <td>101759490</td>\n",
       "      <td>101.76</td>\n",
       "      <td>[Horror]</td>\n",
       "    </tr>\n",
       "    <tr>\n",
       "      <th>1</th>\n",
       "      <td>Paranormal Activity 2</td>\n",
       "      <td>Horror</td>\n",
       "      <td>91.0</td>\n",
       "      <td>5.7</td>\n",
       "      <td>3000000</td>\n",
       "      <td>84752907</td>\n",
       "      <td>177512032</td>\n",
       "      <td>59.17</td>\n",
       "      <td>[Horror]</td>\n",
       "    </tr>\n",
       "    <tr>\n",
       "      <th>2</th>\n",
       "      <td>Get Out</td>\n",
       "      <td>Horror,Mystery,Thriller</td>\n",
       "      <td>104.0</td>\n",
       "      <td>7.7</td>\n",
       "      <td>5000000</td>\n",
       "      <td>176040665</td>\n",
       "      <td>255367951</td>\n",
       "      <td>51.07</td>\n",
       "      <td>[Horror, Mystery, Thriller]</td>\n",
       "    </tr>\n",
       "    <tr>\n",
       "      <th>3</th>\n",
       "      <td>Moonlight</td>\n",
       "      <td>Drama</td>\n",
       "      <td>111.0</td>\n",
       "      <td>7.4</td>\n",
       "      <td>1500000</td>\n",
       "      <td>27854931</td>\n",
       "      <td>65245512</td>\n",
       "      <td>43.50</td>\n",
       "      <td>[Drama]</td>\n",
       "    </tr>\n",
       "    <tr>\n",
       "      <th>4</th>\n",
       "      <td>Chernobyl Diaries</td>\n",
       "      <td>Horror,Mystery,Thriller</td>\n",
       "      <td>86.0</td>\n",
       "      <td>5.0</td>\n",
       "      <td>1000000</td>\n",
       "      <td>18119640</td>\n",
       "      <td>42411721</td>\n",
       "      <td>42.41</td>\n",
       "      <td>[Horror, Mystery, Thriller]</td>\n",
       "    </tr>\n",
       "  </tbody>\n",
       "</table>\n",
       "</div>"
      ],
      "text/plain": [
       "                   movie                   genres  runtime_minutes  \\\n",
       "0       The Devil Inside                   Horror             83.0   \n",
       "1  Paranormal Activity 2                   Horror             91.0   \n",
       "2                Get Out  Horror,Mystery,Thriller            104.0   \n",
       "3              Moonlight                    Drama            111.0   \n",
       "4      Chernobyl Diaries  Horror,Mystery,Thriller             86.0   \n",
       "\n",
       "   averagerating  production_budget  domestic_gross  worldwide_gross     ROI  \\\n",
       "0            4.2            1000000        53262945        101759490  101.76   \n",
       "1            5.7            3000000        84752907        177512032   59.17   \n",
       "2            7.7            5000000       176040665        255367951   51.07   \n",
       "3            7.4            1500000        27854931         65245512   43.50   \n",
       "4            5.0            1000000        18119640         42411721   42.41   \n",
       "\n",
       "                     new_genre  \n",
       "0                     [Horror]  \n",
       "1                     [Horror]  \n",
       "2  [Horror, Mystery, Thriller]  \n",
       "3                      [Drama]  \n",
       "4  [Horror, Mystery, Thriller]  "
      ]
     },
     "execution_count": 37,
     "metadata": {},
     "output_type": "execute_result"
    }
   ],
   "source": [
    "stats_copy['new_genre'] = stats_copy['genres'].str.split(',')\n",
    "stats_copy.head()"
   ]
  },
  {
   "cell_type": "markdown",
   "metadata": {},
   "source": [
    "Then we will use explode to have one listing of each movie per each genre"
   ]
  },
  {
   "cell_type": "code",
   "execution_count": 19,
   "metadata": {},
   "outputs": [
    {
     "data": {
      "text/html": [
       "<div>\n",
       "<style scoped>\n",
       "    .dataframe tbody tr th:only-of-type {\n",
       "        vertical-align: middle;\n",
       "    }\n",
       "\n",
       "    .dataframe tbody tr th {\n",
       "        vertical-align: top;\n",
       "    }\n",
       "\n",
       "    .dataframe thead th {\n",
       "        text-align: right;\n",
       "    }\n",
       "</style>\n",
       "<table border=\"1\" class=\"dataframe\">\n",
       "  <thead>\n",
       "    <tr style=\"text-align: right;\">\n",
       "      <th></th>\n",
       "      <th>movie</th>\n",
       "      <th>genres</th>\n",
       "      <th>runtime_minutes</th>\n",
       "      <th>averagerating</th>\n",
       "      <th>production_budget</th>\n",
       "      <th>domestic_gross</th>\n",
       "      <th>worldwide_gross</th>\n",
       "      <th>ROI</th>\n",
       "      <th>new_genre</th>\n",
       "    </tr>\n",
       "  </thead>\n",
       "  <tbody>\n",
       "    <tr>\n",
       "      <th>0</th>\n",
       "      <td>The Devil Inside</td>\n",
       "      <td>Horror</td>\n",
       "      <td>83.0</td>\n",
       "      <td>4.2</td>\n",
       "      <td>1000000</td>\n",
       "      <td>53262945</td>\n",
       "      <td>101759490</td>\n",
       "      <td>101.76</td>\n",
       "      <td>Horror</td>\n",
       "    </tr>\n",
       "    <tr>\n",
       "      <th>1</th>\n",
       "      <td>Paranormal Activity 2</td>\n",
       "      <td>Horror</td>\n",
       "      <td>91.0</td>\n",
       "      <td>5.7</td>\n",
       "      <td>3000000</td>\n",
       "      <td>84752907</td>\n",
       "      <td>177512032</td>\n",
       "      <td>59.17</td>\n",
       "      <td>Horror</td>\n",
       "    </tr>\n",
       "    <tr>\n",
       "      <th>2</th>\n",
       "      <td>Get Out</td>\n",
       "      <td>Horror,Mystery,Thriller</td>\n",
       "      <td>104.0</td>\n",
       "      <td>7.7</td>\n",
       "      <td>5000000</td>\n",
       "      <td>176040665</td>\n",
       "      <td>255367951</td>\n",
       "      <td>51.07</td>\n",
       "      <td>Horror</td>\n",
       "    </tr>\n",
       "    <tr>\n",
       "      <th>2</th>\n",
       "      <td>Get Out</td>\n",
       "      <td>Horror,Mystery,Thriller</td>\n",
       "      <td>104.0</td>\n",
       "      <td>7.7</td>\n",
       "      <td>5000000</td>\n",
       "      <td>176040665</td>\n",
       "      <td>255367951</td>\n",
       "      <td>51.07</td>\n",
       "      <td>Mystery</td>\n",
       "    </tr>\n",
       "    <tr>\n",
       "      <th>2</th>\n",
       "      <td>Get Out</td>\n",
       "      <td>Horror,Mystery,Thriller</td>\n",
       "      <td>104.0</td>\n",
       "      <td>7.7</td>\n",
       "      <td>5000000</td>\n",
       "      <td>176040665</td>\n",
       "      <td>255367951</td>\n",
       "      <td>51.07</td>\n",
       "      <td>Thriller</td>\n",
       "    </tr>\n",
       "  </tbody>\n",
       "</table>\n",
       "</div>"
      ],
      "text/plain": [
       "                   movie                   genres  runtime_minutes  \\\n",
       "0       The Devil Inside                   Horror             83.0   \n",
       "1  Paranormal Activity 2                   Horror             91.0   \n",
       "2                Get Out  Horror,Mystery,Thriller            104.0   \n",
       "2                Get Out  Horror,Mystery,Thriller            104.0   \n",
       "2                Get Out  Horror,Mystery,Thriller            104.0   \n",
       "\n",
       "   averagerating  production_budget  domestic_gross  worldwide_gross     ROI  \\\n",
       "0            4.2            1000000        53262945        101759490  101.76   \n",
       "1            5.7            3000000        84752907        177512032   59.17   \n",
       "2            7.7            5000000       176040665        255367951   51.07   \n",
       "2            7.7            5000000       176040665        255367951   51.07   \n",
       "2            7.7            5000000       176040665        255367951   51.07   \n",
       "\n",
       "  new_genre  \n",
       "0    Horror  \n",
       "1    Horror  \n",
       "2    Horror  \n",
       "2   Mystery  \n",
       "2  Thriller  "
      ]
     },
     "execution_count": 19,
     "metadata": {},
     "output_type": "execute_result"
    }
   ],
   "source": [
    "stats_copy_explode = stats_copy.explode('new_genre')\n",
    "stats_copy_explode.head()"
   ]
  },
  {
   "cell_type": "markdown",
   "metadata": {},
   "source": [
    "We will then group by each genre, and return the count of movies per genre. Since it isn't helpful to use genres with a small sample size, we will only select the genres with at least 150 movies."
   ]
  },
  {
   "cell_type": "code",
   "execution_count": 45,
   "metadata": {},
   "outputs": [
    {
     "data": {
      "text/html": [
       "<div>\n",
       "<style scoped>\n",
       "    .dataframe tbody tr th:only-of-type {\n",
       "        vertical-align: middle;\n",
       "    }\n",
       "\n",
       "    .dataframe tbody tr th {\n",
       "        vertical-align: top;\n",
       "    }\n",
       "\n",
       "    .dataframe thead th {\n",
       "        text-align: right;\n",
       "    }\n",
       "</style>\n",
       "<table border=\"1\" class=\"dataframe\">\n",
       "  <thead>\n",
       "    <tr style=\"text-align: right;\">\n",
       "      <th></th>\n",
       "      <th>movie</th>\n",
       "    </tr>\n",
       "    <tr>\n",
       "      <th>new_genre</th>\n",
       "      <th></th>\n",
       "    </tr>\n",
       "  </thead>\n",
       "  <tbody>\n",
       "    <tr>\n",
       "      <th>Drama</th>\n",
       "      <td>676</td>\n",
       "    </tr>\n",
       "    <tr>\n",
       "      <th>Comedy</th>\n",
       "      <td>491</td>\n",
       "    </tr>\n",
       "    <tr>\n",
       "      <th>Action</th>\n",
       "      <td>432</td>\n",
       "    </tr>\n",
       "    <tr>\n",
       "      <th>Adventure</th>\n",
       "      <td>345</td>\n",
       "    </tr>\n",
       "    <tr>\n",
       "      <th>Thriller</th>\n",
       "      <td>244</td>\n",
       "    </tr>\n",
       "    <tr>\n",
       "      <th>Crime</th>\n",
       "      <td>228</td>\n",
       "    </tr>\n",
       "    <tr>\n",
       "      <th>Romance</th>\n",
       "      <td>172</td>\n",
       "    </tr>\n",
       "    <tr>\n",
       "      <th>Horror</th>\n",
       "      <td>169</td>\n",
       "    </tr>\n",
       "  </tbody>\n",
       "</table>\n",
       "</div>"
      ],
      "text/plain": [
       "           movie\n",
       "new_genre       \n",
       "Drama        676\n",
       "Comedy       491\n",
       "Action       432\n",
       "Adventure    345\n",
       "Thriller     244\n",
       "Crime        228\n",
       "Romance      172\n",
       "Horror       169"
      ]
     },
     "execution_count": 45,
     "metadata": {},
     "output_type": "execute_result"
    }
   ],
   "source": [
    "count_stats = stats_copy_explode.groupby('new_genre').count().sort_values(by = 'movie', ascending= False)\n",
    "count_150 = count_stats.loc[count_stats.movie > 150, ['movie']]\n",
    "count_150"
   ]
  },
  {
   "cell_type": "markdown",
   "metadata": {},
   "source": [
    "We will then create another df which does the same thing yet shows all the mean statistics."
   ]
  },
  {
   "cell_type": "code",
   "execution_count": 21,
   "metadata": {},
   "outputs": [
    {
     "data": {
      "text/html": [
       "<div>\n",
       "<style scoped>\n",
       "    .dataframe tbody tr th:only-of-type {\n",
       "        vertical-align: middle;\n",
       "    }\n",
       "\n",
       "    .dataframe tbody tr th {\n",
       "        vertical-align: top;\n",
       "    }\n",
       "\n",
       "    .dataframe thead th {\n",
       "        text-align: right;\n",
       "    }\n",
       "</style>\n",
       "<table border=\"1\" class=\"dataframe\">\n",
       "  <thead>\n",
       "    <tr style=\"text-align: right;\">\n",
       "      <th></th>\n",
       "      <th>runtime_minutes</th>\n",
       "      <th>averagerating</th>\n",
       "      <th>production_budget</th>\n",
       "      <th>domestic_gross</th>\n",
       "      <th>worldwide_gross</th>\n",
       "      <th>ROI</th>\n",
       "    </tr>\n",
       "    <tr>\n",
       "      <th>new_genre</th>\n",
       "      <th></th>\n",
       "      <th></th>\n",
       "      <th></th>\n",
       "      <th></th>\n",
       "      <th></th>\n",
       "      <th></th>\n",
       "    </tr>\n",
       "  </thead>\n",
       "  <tbody>\n",
       "    <tr>\n",
       "      <th>Action</th>\n",
       "      <td>112.321759</td>\n",
       "      <td>6.267824</td>\n",
       "      <td>7.969074e+07</td>\n",
       "      <td>8.627918e+07</td>\n",
       "      <td>2.382021e+08</td>\n",
       "      <td>2.630880</td>\n",
       "    </tr>\n",
       "    <tr>\n",
       "      <th>Adventure</th>\n",
       "      <td>111.026087</td>\n",
       "      <td>6.440000</td>\n",
       "      <td>1.060968e+08</td>\n",
       "      <td>1.228029e+08</td>\n",
       "      <td>3.492623e+08</td>\n",
       "      <td>3.113507</td>\n",
       "    </tr>\n",
       "    <tr>\n",
       "      <th>Animation</th>\n",
       "      <td>94.320388</td>\n",
       "      <td>6.499029</td>\n",
       "      <td>9.535922e+07</td>\n",
       "      <td>1.326257e+08</td>\n",
       "      <td>3.671644e+08</td>\n",
       "      <td>3.623398</td>\n",
       "    </tr>\n",
       "    <tr>\n",
       "      <th>Biography</th>\n",
       "      <td>119.732824</td>\n",
       "      <td>7.018321</td>\n",
       "      <td>2.673053e+07</td>\n",
       "      <td>3.913965e+07</td>\n",
       "      <td>8.148098e+07</td>\n",
       "      <td>3.252748</td>\n",
       "    </tr>\n",
       "    <tr>\n",
       "      <th>Comedy</th>\n",
       "      <td>103.016360</td>\n",
       "      <td>6.215275</td>\n",
       "      <td>4.191772e+07</td>\n",
       "      <td>6.094114e+07</td>\n",
       "      <td>1.391403e+08</td>\n",
       "      <td>3.135866</td>\n",
       "    </tr>\n",
       "    <tr>\n",
       "      <th>Crime</th>\n",
       "      <td>109.447368</td>\n",
       "      <td>6.315789</td>\n",
       "      <td>3.206952e+07</td>\n",
       "      <td>3.583266e+07</td>\n",
       "      <td>7.650627e+07</td>\n",
       "      <td>2.163377</td>\n",
       "    </tr>\n",
       "    <tr>\n",
       "      <th>Documentary</th>\n",
       "      <td>83.421053</td>\n",
       "      <td>6.470000</td>\n",
       "      <td>1.369500e+07</td>\n",
       "      <td>2.216907e+07</td>\n",
       "      <td>4.526666e+07</td>\n",
       "      <td>4.066500</td>\n",
       "    </tr>\n",
       "    <tr>\n",
       "      <th>Drama</th>\n",
       "      <td>113.093472</td>\n",
       "      <td>6.581805</td>\n",
       "      <td>2.825050e+07</td>\n",
       "      <td>3.529121e+07</td>\n",
       "      <td>7.781396e+07</td>\n",
       "      <td>3.196494</td>\n",
       "    </tr>\n",
       "    <tr>\n",
       "      <th>Family</th>\n",
       "      <td>105.847826</td>\n",
       "      <td>6.164130</td>\n",
       "      <td>6.852609e+07</td>\n",
       "      <td>8.021574e+07</td>\n",
       "      <td>1.995408e+08</td>\n",
       "      <td>2.639565</td>\n",
       "    </tr>\n",
       "    <tr>\n",
       "      <th>Fantasy</th>\n",
       "      <td>111.716667</td>\n",
       "      <td>6.133333</td>\n",
       "      <td>8.750083e+07</td>\n",
       "      <td>8.513249e+07</td>\n",
       "      <td>2.490737e+08</td>\n",
       "      <td>2.991167</td>\n",
       "    </tr>\n",
       "    <tr>\n",
       "      <th>History</th>\n",
       "      <td>125.487179</td>\n",
       "      <td>6.884615</td>\n",
       "      <td>3.499744e+07</td>\n",
       "      <td>4.145956e+07</td>\n",
       "      <td>8.381652e+07</td>\n",
       "      <td>2.525641</td>\n",
       "    </tr>\n",
       "    <tr>\n",
       "      <th>Horror</th>\n",
       "      <td>97.893491</td>\n",
       "      <td>5.550296</td>\n",
       "      <td>1.977130e+07</td>\n",
       "      <td>3.391291e+07</td>\n",
       "      <td>7.692744e+07</td>\n",
       "      <td>7.010651</td>\n",
       "    </tr>\n",
       "    <tr>\n",
       "      <th>Music</th>\n",
       "      <td>110.133333</td>\n",
       "      <td>6.368889</td>\n",
       "      <td>1.899333e+07</td>\n",
       "      <td>3.722619e+07</td>\n",
       "      <td>8.121752e+07</td>\n",
       "      <td>3.767556</td>\n",
       "    </tr>\n",
       "    <tr>\n",
       "      <th>Musical</th>\n",
       "      <td>115.111111</td>\n",
       "      <td>6.077778</td>\n",
       "      <td>6.510000e+07</td>\n",
       "      <td>1.216518e+08</td>\n",
       "      <td>3.193670e+08</td>\n",
       "      <td>2.925556</td>\n",
       "    </tr>\n",
       "    <tr>\n",
       "      <th>Mystery</th>\n",
       "      <td>106.853448</td>\n",
       "      <td>6.206897</td>\n",
       "      <td>2.658136e+07</td>\n",
       "      <td>4.253823e+07</td>\n",
       "      <td>9.838938e+07</td>\n",
       "      <td>6.791379</td>\n",
       "    </tr>\n",
       "    <tr>\n",
       "      <th>Romance</th>\n",
       "      <td>107.598837</td>\n",
       "      <td>6.325000</td>\n",
       "      <td>2.394331e+07</td>\n",
       "      <td>3.533904e+07</td>\n",
       "      <td>7.315300e+07</td>\n",
       "      <td>3.286453</td>\n",
       "    </tr>\n",
       "    <tr>\n",
       "      <th>Sci-Fi</th>\n",
       "      <td>115.782258</td>\n",
       "      <td>6.489516</td>\n",
       "      <td>9.730726e+07</td>\n",
       "      <td>1.268213e+08</td>\n",
       "      <td>3.515406e+08</td>\n",
       "      <td>3.635000</td>\n",
       "    </tr>\n",
       "    <tr>\n",
       "      <th>Sport</th>\n",
       "      <td>121.343750</td>\n",
       "      <td>6.850000</td>\n",
       "      <td>2.556875e+07</td>\n",
       "      <td>3.490450e+07</td>\n",
       "      <td>5.473057e+07</td>\n",
       "      <td>2.211562</td>\n",
       "    </tr>\n",
       "    <tr>\n",
       "      <th>Thriller</th>\n",
       "      <td>106.077869</td>\n",
       "      <td>6.087295</td>\n",
       "      <td>3.396819e+07</td>\n",
       "      <td>4.590177e+07</td>\n",
       "      <td>1.169883e+08</td>\n",
       "      <td>4.839016</td>\n",
       "    </tr>\n",
       "    <tr>\n",
       "      <th>War</th>\n",
       "      <td>119.588235</td>\n",
       "      <td>6.647059</td>\n",
       "      <td>2.777647e+07</td>\n",
       "      <td>2.424936e+07</td>\n",
       "      <td>5.834202e+07</td>\n",
       "      <td>1.745882</td>\n",
       "    </tr>\n",
       "    <tr>\n",
       "      <th>Western</th>\n",
       "      <td>118.700000</td>\n",
       "      <td>6.570000</td>\n",
       "      <td>6.308000e+07</td>\n",
       "      <td>5.310493e+07</td>\n",
       "      <td>1.151208e+08</td>\n",
       "      <td>1.689000</td>\n",
       "    </tr>\n",
       "  </tbody>\n",
       "</table>\n",
       "</div>"
      ],
      "text/plain": [
       "             runtime_minutes  averagerating  production_budget  \\\n",
       "new_genre                                                        \n",
       "Action            112.321759       6.267824       7.969074e+07   \n",
       "Adventure         111.026087       6.440000       1.060968e+08   \n",
       "Animation          94.320388       6.499029       9.535922e+07   \n",
       "Biography         119.732824       7.018321       2.673053e+07   \n",
       "Comedy            103.016360       6.215275       4.191772e+07   \n",
       "Crime             109.447368       6.315789       3.206952e+07   \n",
       "Documentary        83.421053       6.470000       1.369500e+07   \n",
       "Drama             113.093472       6.581805       2.825050e+07   \n",
       "Family            105.847826       6.164130       6.852609e+07   \n",
       "Fantasy           111.716667       6.133333       8.750083e+07   \n",
       "History           125.487179       6.884615       3.499744e+07   \n",
       "Horror             97.893491       5.550296       1.977130e+07   \n",
       "Music             110.133333       6.368889       1.899333e+07   \n",
       "Musical           115.111111       6.077778       6.510000e+07   \n",
       "Mystery           106.853448       6.206897       2.658136e+07   \n",
       "Romance           107.598837       6.325000       2.394331e+07   \n",
       "Sci-Fi            115.782258       6.489516       9.730726e+07   \n",
       "Sport             121.343750       6.850000       2.556875e+07   \n",
       "Thriller          106.077869       6.087295       3.396819e+07   \n",
       "War               119.588235       6.647059       2.777647e+07   \n",
       "Western           118.700000       6.570000       6.308000e+07   \n",
       "\n",
       "             domestic_gross  worldwide_gross       ROI  \n",
       "new_genre                                               \n",
       "Action         8.627918e+07     2.382021e+08  2.630880  \n",
       "Adventure      1.228029e+08     3.492623e+08  3.113507  \n",
       "Animation      1.326257e+08     3.671644e+08  3.623398  \n",
       "Biography      3.913965e+07     8.148098e+07  3.252748  \n",
       "Comedy         6.094114e+07     1.391403e+08  3.135866  \n",
       "Crime          3.583266e+07     7.650627e+07  2.163377  \n",
       "Documentary    2.216907e+07     4.526666e+07  4.066500  \n",
       "Drama          3.529121e+07     7.781396e+07  3.196494  \n",
       "Family         8.021574e+07     1.995408e+08  2.639565  \n",
       "Fantasy        8.513249e+07     2.490737e+08  2.991167  \n",
       "History        4.145956e+07     8.381652e+07  2.525641  \n",
       "Horror         3.391291e+07     7.692744e+07  7.010651  \n",
       "Music          3.722619e+07     8.121752e+07  3.767556  \n",
       "Musical        1.216518e+08     3.193670e+08  2.925556  \n",
       "Mystery        4.253823e+07     9.838938e+07  6.791379  \n",
       "Romance        3.533904e+07     7.315300e+07  3.286453  \n",
       "Sci-Fi         1.268213e+08     3.515406e+08  3.635000  \n",
       "Sport          3.490450e+07     5.473057e+07  2.211562  \n",
       "Thriller       4.590177e+07     1.169883e+08  4.839016  \n",
       "War            2.424936e+07     5.834202e+07  1.745882  \n",
       "Western        5.310493e+07     1.151208e+08  1.689000  "
      ]
     },
     "execution_count": 21,
     "metadata": {},
     "output_type": "execute_result"
    }
   ],
   "source": [
    "explode_mean_stats = stats_copy_explode.groupby('new_genre').mean()\n",
    "explode_mean_stats"
   ]
  },
  {
   "cell_type": "markdown",
   "metadata": {},
   "source": [
    "We will now join our 2 dfs together to create a new df with all the mean statistics for genres with over 150 movies."
   ]
  },
  {
   "cell_type": "code",
   "execution_count": 46,
   "metadata": {},
   "outputs": [
    {
     "data": {
      "text/html": [
       "<div>\n",
       "<style scoped>\n",
       "    .dataframe tbody tr th:only-of-type {\n",
       "        vertical-align: middle;\n",
       "    }\n",
       "\n",
       "    .dataframe tbody tr th {\n",
       "        vertical-align: top;\n",
       "    }\n",
       "\n",
       "    .dataframe thead th {\n",
       "        text-align: right;\n",
       "    }\n",
       "</style>\n",
       "<table border=\"1\" class=\"dataframe\">\n",
       "  <thead>\n",
       "    <tr style=\"text-align: right;\">\n",
       "      <th></th>\n",
       "      <th>movie</th>\n",
       "      <th>runtime_minutes</th>\n",
       "      <th>averagerating</th>\n",
       "      <th>production_budget</th>\n",
       "      <th>domestic_gross</th>\n",
       "      <th>worldwide_gross</th>\n",
       "      <th>ROI</th>\n",
       "    </tr>\n",
       "    <tr>\n",
       "      <th>new_genre</th>\n",
       "      <th></th>\n",
       "      <th></th>\n",
       "      <th></th>\n",
       "      <th></th>\n",
       "      <th></th>\n",
       "      <th></th>\n",
       "      <th></th>\n",
       "    </tr>\n",
       "  </thead>\n",
       "  <tbody>\n",
       "    <tr>\n",
       "      <th>Drama</th>\n",
       "      <td>676</td>\n",
       "      <td>113.093472</td>\n",
       "      <td>6.581805</td>\n",
       "      <td>2.825050e+07</td>\n",
       "      <td>3.529121e+07</td>\n",
       "      <td>7.781396e+07</td>\n",
       "      <td>3.196494</td>\n",
       "    </tr>\n",
       "    <tr>\n",
       "      <th>Comedy</th>\n",
       "      <td>491</td>\n",
       "      <td>103.016360</td>\n",
       "      <td>6.215275</td>\n",
       "      <td>4.191772e+07</td>\n",
       "      <td>6.094114e+07</td>\n",
       "      <td>1.391403e+08</td>\n",
       "      <td>3.135866</td>\n",
       "    </tr>\n",
       "    <tr>\n",
       "      <th>Action</th>\n",
       "      <td>432</td>\n",
       "      <td>112.321759</td>\n",
       "      <td>6.267824</td>\n",
       "      <td>7.969074e+07</td>\n",
       "      <td>8.627918e+07</td>\n",
       "      <td>2.382021e+08</td>\n",
       "      <td>2.630880</td>\n",
       "    </tr>\n",
       "    <tr>\n",
       "      <th>Adventure</th>\n",
       "      <td>345</td>\n",
       "      <td>111.026087</td>\n",
       "      <td>6.440000</td>\n",
       "      <td>1.060968e+08</td>\n",
       "      <td>1.228029e+08</td>\n",
       "      <td>3.492623e+08</td>\n",
       "      <td>3.113507</td>\n",
       "    </tr>\n",
       "    <tr>\n",
       "      <th>Thriller</th>\n",
       "      <td>244</td>\n",
       "      <td>106.077869</td>\n",
       "      <td>6.087295</td>\n",
       "      <td>3.396819e+07</td>\n",
       "      <td>4.590177e+07</td>\n",
       "      <td>1.169883e+08</td>\n",
       "      <td>4.839016</td>\n",
       "    </tr>\n",
       "    <tr>\n",
       "      <th>Crime</th>\n",
       "      <td>228</td>\n",
       "      <td>109.447368</td>\n",
       "      <td>6.315789</td>\n",
       "      <td>3.206952e+07</td>\n",
       "      <td>3.583266e+07</td>\n",
       "      <td>7.650627e+07</td>\n",
       "      <td>2.163377</td>\n",
       "    </tr>\n",
       "    <tr>\n",
       "      <th>Romance</th>\n",
       "      <td>172</td>\n",
       "      <td>107.598837</td>\n",
       "      <td>6.325000</td>\n",
       "      <td>2.394331e+07</td>\n",
       "      <td>3.533904e+07</td>\n",
       "      <td>7.315300e+07</td>\n",
       "      <td>3.286453</td>\n",
       "    </tr>\n",
       "    <tr>\n",
       "      <th>Horror</th>\n",
       "      <td>169</td>\n",
       "      <td>97.893491</td>\n",
       "      <td>5.550296</td>\n",
       "      <td>1.977130e+07</td>\n",
       "      <td>3.391291e+07</td>\n",
       "      <td>7.692744e+07</td>\n",
       "      <td>7.010651</td>\n",
       "    </tr>\n",
       "  </tbody>\n",
       "</table>\n",
       "</div>"
      ],
      "text/plain": [
       "           movie  runtime_minutes  averagerating  production_budget  \\\n",
       "new_genre                                                             \n",
       "Drama        676       113.093472       6.581805       2.825050e+07   \n",
       "Comedy       491       103.016360       6.215275       4.191772e+07   \n",
       "Action       432       112.321759       6.267824       7.969074e+07   \n",
       "Adventure    345       111.026087       6.440000       1.060968e+08   \n",
       "Thriller     244       106.077869       6.087295       3.396819e+07   \n",
       "Crime        228       109.447368       6.315789       3.206952e+07   \n",
       "Romance      172       107.598837       6.325000       2.394331e+07   \n",
       "Horror       169        97.893491       5.550296       1.977130e+07   \n",
       "\n",
       "           domestic_gross  worldwide_gross       ROI  \n",
       "new_genre                                             \n",
       "Drama        3.529121e+07     7.781396e+07  3.196494  \n",
       "Comedy       6.094114e+07     1.391403e+08  3.135866  \n",
       "Action       8.627918e+07     2.382021e+08  2.630880  \n",
       "Adventure    1.228029e+08     3.492623e+08  3.113507  \n",
       "Thriller     4.590177e+07     1.169883e+08  4.839016  \n",
       "Crime        3.583266e+07     7.650627e+07  2.163377  \n",
       "Romance      3.533904e+07     7.315300e+07  3.286453  \n",
       "Horror       3.391291e+07     7.692744e+07  7.010651  "
      ]
     },
     "execution_count": 46,
     "metadata": {},
     "output_type": "execute_result"
    }
   ],
   "source": [
    "main_genres = count_150.merge(explode_mean_stats, how='inner', on = 'new_genre')\n",
    "main_genres"
   ]
  },
  {
   "cell_type": "markdown",
   "metadata": {},
   "source": [
    "Then we will sort the gross values in order to prepare them to be graphed"
   ]
  },
  {
   "cell_type": "code",
   "execution_count": 47,
   "metadata": {},
   "outputs": [
    {
     "data": {
      "text/plain": [
       "new_genre\n",
       "Adventure    3.492623e+08\n",
       "Action       2.382021e+08\n",
       "Comedy       1.391403e+08\n",
       "Thriller     1.169883e+08\n",
       "Drama        7.781396e+07\n",
       "Horror       7.692744e+07\n",
       "Crime        7.650627e+07\n",
       "Romance      7.315300e+07\n",
       "Name: worldwide_gross, dtype: float64"
      ]
     },
     "execution_count": 47,
     "metadata": {},
     "output_type": "execute_result"
    }
   ],
   "source": [
    "top_prof = main_genres.worldwide_gross.sort_values(ascending= False)\n",
    "top_prof"
   ]
  },
  {
   "cell_type": "markdown",
   "metadata": {},
   "source": [
    "Finally we will create a bar graph of the values"
   ]
  },
  {
   "cell_type": "code",
   "execution_count": 48,
   "metadata": {},
   "outputs": [
    {
     "data": {
      "image/png": "[encoded data removed]",
      "text/plain": [
       "<Figure size 432x288 with 1 Axes>"
      ]
     },
     "metadata": {
      "needs_background": "light"
     },
     "output_type": "display_data"
    }
   ],
   "source": [
    "# fig, ax = plt.subplots(figsize=(16, 5))\n",
    "\n",
    "# # Plot data\n",
    "# ax.bar(top_10_prof.index, top_10_prof.values)\n",
    "\n",
    "# # Customize appearance\n",
    "# ax.tick_params(axis=\"x\", labelrotation=45)\n",
    "# ax.set_ylabel(\"Average Profit\")\n",
    "# ax.set_title(\"Top 10 Average Profits\");\n",
    "\n",
    "top_prof.plot(kind='bar')\n",
    "plt.ticklabel_format(style='plain', axis='y')\n",
    "plt.xlabel('Genres')\n",
    "plt.xticks(rotation=45)\n",
    "plt.ylabel('Profit(USD)')\n",
    "plt.title(\"Top Average Profits\");"
   ]
  },
  {
   "cell_type": "markdown",
   "metadata": {},
   "source": [
    "Now, we will do the same thing for ROI"
   ]
  },
  {
   "cell_type": "code",
   "execution_count": 51,
   "metadata": {},
   "outputs": [
    {
     "data": {
      "text/plain": [
       "new_genre\n",
       "Horror       7.01\n",
       "Thriller     4.84\n",
       "Romance      3.29\n",
       "Drama        3.20\n",
       "Comedy       3.14\n",
       "Adventure    3.11\n",
       "Action       2.63\n",
       "Crime        2.16\n",
       "Name: ROI, dtype: float64"
      ]
     },
     "execution_count": 51,
     "metadata": {},
     "output_type": "execute_result"
    }
   ],
   "source": [
    "top_roi = round(main_genres.ROI.sort_values(ascending= False),2)\n",
    "top_roi"
   ]
  },
  {
   "cell_type": "code",
   "execution_count": 50,
   "metadata": {},
   "outputs": [
    {
     "data": {
      "image/png": "[encoded data removed]",
      "text/plain": [
       "<Figure size 432x288 with 1 Axes>"
      ]
     },
     "metadata": {
      "needs_background": "light"
     },
     "output_type": "display_data"
    }
   ],
   "source": [
    "top_roi.plot(kind='bar')\n",
    "plt.xlabel('Genres')\n",
    "plt.xticks(rotation=45)\n",
    "plt.ylabel('ROI')\n",
    "plt.title(\"Top Average ROI\");"
   ]
  },
  {
   "cell_type": "markdown",
   "metadata": {},
   "source": [
    "We will now move on from the monetary analysis, and look at other factors that determine a movies success"
   ]
  },
  {
   "cell_type": "markdown",
   "metadata": {},
   "source": [
    "### Non-monetary Analysis\n",
    "We will now move on and look into non monetary statistics. We begin by loading basic info about the imdb_db"
   ]
  },
  {
   "cell_type": "code",
   "execution_count": 27,
   "metadata": {
    "scrolled": true
   },
   "outputs": [
    {
     "name": "stdout",
     "output_type": "stream",
     "text": [
      "<class 'pandas.core.frame.DataFrame'>\n",
      "RangeIndex: 73856 entries, 0 to 73855\n",
      "Data columns (total 5 columns):\n",
      " #   Column           Non-Null Count  Dtype  \n",
      "---  ------           --------------  -----  \n",
      " 0   movie            73856 non-null  object \n",
      " 1   start_year       73856 non-null  int64  \n",
      " 2   runtime_minutes  66236 non-null  float64\n",
      " 3   genres           73052 non-null  object \n",
      " 4   averagerating    73856 non-null  float64\n",
      "dtypes: float64(2), int64(1), object(2)\n",
      "memory usage: 2.8+ MB\n"
     ]
    }
   ],
   "source": [
    "imdb_df.info()"
   ]
  },
  {
   "cell_type": "code",
   "execution_count": 28,
   "metadata": {},
   "outputs": [
    {
     "data": {
      "text/plain": [
       "movie                 0\n",
       "start_year            0\n",
       "runtime_minutes    7620\n",
       "genres              804\n",
       "averagerating         0\n",
       "dtype: int64"
      ]
     },
     "execution_count": 28,
     "metadata": {},
     "output_type": "execute_result"
    }
   ],
   "source": [
    "imdb_df.isna().sum()"
   ]
  },
  {
   "cell_type": "markdown",
   "metadata": {},
   "source": [
    "We see that both `runtime_minutes` and `genre` are missing some values. We will have to clean this data before we are able to pull useful information from it.\n",
    "\n",
    "### Data Cleaning\n",
    "Lets begin by taking all the movies that are missing their genre and replacing the NaN values with \"Absent.\" This is the most logical way to solve this issue as it won't affect any of the other genres. \n",
    "We will then run a check to make sure the values were indeed changed."
   ]
  },
  {
   "cell_type": "code",
   "execution_count": 29,
   "metadata": {
    "scrolled": true
   },
   "outputs": [
    {
     "data": {
      "text/plain": [
       "movie                 0\n",
       "start_year            0\n",
       "runtime_minutes    7620\n",
       "genres                0\n",
       "averagerating         0\n",
       "dtype: int64"
      ]
     },
     "execution_count": 29,
     "metadata": {},
     "output_type": "execute_result"
    }
   ],
   "source": [
    "imdb_df['genres'] = imdb_df.genres.fillna(value = 'Absent')\n",
    "imdb_df.isna().sum()"
   ]
  },
  {
   "cell_type": "markdown",
   "metadata": {},
   "source": [
    "In terms of the values in the `runtime_minutes` column, it wouldn't make sense to create new values for each row randomly selected based on the current distribution of data, as this would create false information for each specific movie. Instead we will drop all of the rows that contain NaN values. Although this seems like a lot of rows we are still left with around 90% of our original data. \n",
    "Again we will run a check to make sure it ran properly."
   ]
  },
  {
   "cell_type": "code",
   "execution_count": 30,
   "metadata": {},
   "outputs": [
    {
     "data": {
      "text/plain": [
       "movie              0\n",
       "start_year         0\n",
       "runtime_minutes    0\n",
       "genres             0\n",
       "averagerating      0\n",
       "dtype: int64"
      ]
     },
     "execution_count": 30,
     "metadata": {},
     "output_type": "execute_result"
    }
   ],
   "source": [
    "imdb_df = imdb_df.dropna()\n",
    "imdb_df.isna().sum()"
   ]
  },
  {
   "cell_type": "markdown",
   "metadata": {},
   "source": [
    "Additionally, there may be some outlier values that were have a large impact on the mean as well as other aggregate functions. As such lets only include data that is within two standard deviations of the mean. Then we will run a check to make sure the new maximum and minimum seem to be realistic numbers."
   ]
  },
  {
   "cell_type": "code",
   "execution_count": 31,
   "metadata": {
    "scrolled": true
   },
   "outputs": [
    {
     "name": "stdout",
     "output_type": "stream",
     "text": [
      "The new max is: 137.0\n",
      "The new min is: 56.0\n"
     ]
    }
   ],
   "source": [
    "#note: ONLY run this cell once. \n",
    "# If you run this cell more then once it will keeping cutting the data down.\n",
    "high_outlier = imdb_df.runtime_minutes.quantile(.9545)\n",
    "low_outlier = imdb_df.runtime_minutes.quantile(.0455)\n",
    "imdb_df = imdb_df[~((imdb_df.runtime_minutes < low_outlier)| \n",
    "            (imdb_df.runtime_minutes > high_outlier))]\n",
    "print(\"The new max is:\", max(imdb_df.runtime_minutes))\n",
    "print(\"The new min is:\", min(imdb_df.runtime_minutes))"
   ]
  },
  {
   "cell_type": "markdown",
   "metadata": {},
   "source": [
    "### Data Analysis\n",
    "Now, lets plot the distribution of the runtimes to see if there is any useful information"
   ]
  },
  {
   "cell_type": "code",
   "execution_count": 32,
   "metadata": {},
   "outputs": [
    {
     "name": "stdout",
     "output_type": "stream",
     "text": [
      "The mean is: 1 hour and 33 minutes \n",
      "The median is: 1 hour and 31 minutes \n"
     ]
    },
    {
     "data": {
      "image/png": "[encoded data removed]",
      "text/plain": [
       "<Figure size 504x288 with 1 Axes>"
      ]
     },
     "metadata": {
      "needs_background": "light"
     },
     "output_type": "display_data"
    }
   ],
   "source": [
    "data = imdb_df.runtime_minutes\n",
    "mean = round(data.mean())\n",
    "median = round(data.median())\n",
    "\n",
    "fig, ax = plt.subplots(figsize=(7,4))\n",
    "ax.hist(data, bins = 10)\n",
    "ax.axvline(mean, color='black')\n",
    "ax.axvline(median, color='green')\n",
    "ax.set_title('Runtime Distribution')\n",
    "ax.set_xlabel('Time in minutes')\n",
    "ax.set_ylabel('Number of Movies ')\n",
    "\n",
    "print('The mean is: {} hour and {} minutes '.format(math.floor(mean/60), int(mean%60)))\n",
    "print('The median is: {} hour and {} minutes '.format(math.floor(median/60), int(median%60)))"
   ]
  },
  {
   "cell_type": "markdown",
   "metadata": {},
   "source": [
    "The data seems to be very normal, as the median and mean are only 2 minutes apart. Overall nothing seems to stand out here.\n",
    "\n",
    "Now lets check if there is any correlation between the length of the movie and its overall rating, and graph the distribution on a scatter plot."
   ]
  },
  {
   "cell_type": "code",
   "execution_count": 33,
   "metadata": {
    "scrolled": true
   },
   "outputs": [
    {
     "name": "stdout",
     "output_type": "stream",
     "text": [
      "The correlation coefficient between runtime and rating is: -0.02\n"
     ]
    },
    {
     "data": {
      "image/png": "[encoded data removed]",
      "text/plain": [
       "<Figure size 432x288 with 1 Axes>"
      ]
     },
     "metadata": {
      "needs_background": "light"
     },
     "output_type": "display_data"
    }
   ],
   "source": [
    "imdb_df.plot.scatter(x = 'runtime_minutes',\n",
    "                 y = 'averagerating',\n",
    "                 s = .04)\n",
    "\n",
    "\n",
    "print('The correlation coefficient between runtime and rating is:',\n",
    "       round(np.corrcoef(imdb_df['runtime_minutes'], imdb_df['averagerating'])[0][1],2))"
   ]
  },
  {
   "cell_type": "markdown",
   "metadata": {},
   "source": [
    "With a value of -.02 the relationship is basically non-existent. This is illustrated in the graph, which looks similar to a rain cloud in that there seems to be no recognizable place to put a best fit line\n",
    "\n",
    "We will move on and break all the movies up by our five main genres. Then we will select only the average rating column from each row."
   ]
  },
  {
   "cell_type": "code",
   "execution_count": 34,
   "metadata": {},
   "outputs": [],
   "source": [
    "df_drama = pd.read_sql(\"\"\"\n",
    "Select genres, averagerating\n",
    "from movie_basics\n",
    "join movie_ratings\n",
    "    using(movie_id)\n",
    "Where genres like '%Drama%'\n",
    "\"\"\",conn)\n",
    "df_horror = pd.read_sql(\"\"\"\n",
    "Select genres, averagerating\n",
    "from movie_basics\n",
    "join movie_ratings\n",
    "    using(movie_id)\n",
    "Where genres like '%Horror%'\n",
    "\"\"\",conn)\n",
    "df_comedy = pd.read_sql(\"\"\"\n",
    "Select genres, averagerating\n",
    "from movie_basics\n",
    "join movie_ratings\n",
    "    using(movie_id)\n",
    "Where genres like '%Comedy%'\n",
    "\"\"\",conn)\n",
    "df_action = pd.read_sql(\"\"\"\n",
    "Select genres, averagerating\n",
    "from movie_basics\n",
    "join movie_ratings\n",
    "    using(movie_id)\n",
    "Where genres like '%Action%'\n",
    "\"\"\",conn)\n",
    "df_romance = pd.read_sql(\"\"\"\n",
    "Select genres, averagerating\n",
    "from movie_basics\n",
    "join movie_ratings\n",
    "    using(movie_id)\n",
    "Where genres like '%Romance%'\n",
    "\"\"\",conn)\n",
    "\n",
    "Action_rating = df_action.averagerating\n",
    "Comedy_rating = df_comedy.averagerating\n",
    "Drama_rating = df_drama.averagerating\n",
    "Horror_rating = df_horror.averagerating\n",
    "Romance_rating = df_romance.averagerating"
   ]
  },
  {
   "cell_type": "markdown",
   "metadata": {},
   "source": [
    "Now we will plot average rating by genre. Similar to the last time we plotted 5 histograms, we will create a for loop for more efficient code. We will use the `colors` and `txt_genres` list that we created last time. Additionally we will need to create a new list called `genre_rating` which contains the rating dataframes broken up by genre."
   ]
  },
  {
   "cell_type": "code",
   "execution_count": 35,
   "metadata": {},
   "outputs": [
    {
     "data": {
      "image/png": "[encoded data removed]",
      "text/plain": [
       "<Figure size 1440x864 with 5 Axes>"
      ]
     },
     "metadata": {
      "needs_background": "light"
     },
     "output_type": "display_data"
    }
   ],
   "source": [
    "genre_rating = [Drama_rating, Horror_rating, Comedy_rating, Action_rating, Romance_rating]\n",
    "\n",
    "fig = plt.figure(figsize=(20,12))\n",
    "i=0\n",
    "for g,c,u in zip(genre_rating, colors, txt_genres):\n",
    "    i = i+1\n",
    "    mean = g.mean()\n",
    "    plt.subplot(3,2,i)\n",
    "    plt.hist(g, color=c,histtype='bar', label = u)\n",
    "    plt.axvline(mean, color='black', label = 'mean = {}'.format(round(mean,2)))\n",
    "    plt.xlabel('Rating')\n",
    "    plt.ylabel('Count')\n",
    "    #plt.title(u)\n",
    "    plt.legend()"
   ]
  },
  {
   "cell_type": "markdown",
   "metadata": {},
   "source": [
    "All the histograms have a relatively normal distribution with a slight skew to the left. This shows that most movies are above the mean but there are some values on the low end that pull the mean down and make it lower. \n",
    "\n",
    "We also see that in terms of ratings, drama is the highest rated genre, followed by romance. This makes sense as people are looking for feel-good movies and these two genres accomplish that the best. The next ranked genres are comedy and action, these genres are more of a raw form of entertainment, if people want to laugh or see something cool. Finally, we have horror with the lowest average ranking. Although, people choose to go to horror movies, they don't walk out feeling like they had a real experience. The films are made to give people a quick scare without walking away with anything real.\n",
    "\n",
    "The last thing we should take a look at is the relationship between ratings and gross, to see if there is any correlation between these two. If there is, then it would show us that if one aims to make a movie with higher ratings then a large profit will come along with that."
   ]
  },
  {
   "cell_type": "code",
   "execution_count": 36,
   "metadata": {},
   "outputs": [
    {
     "name": "stdout",
     "output_type": "stream",
     "text": [
      "The correlation coefficient between average gross and rating is: 0.3\n"
     ]
    }
   ],
   "source": [
    "print('The correlation coefficient between average gross and rating is:',\n",
    "       round(np.corrcoef(movie_stats['worldwide_gross'], movie_stats['averagerating'])[0][1],2))"
   ]
  },
  {
   "cell_type": "markdown",
   "metadata": {},
   "source": [
    "We see that there is a weak relationship, meaning that when making a movie one would have to decide which factor matters more to them. "
   ]
  },
  {
   "cell_type": "markdown",
   "metadata": {},
   "source": [
    "## 5. Summary and Recommendations\n",
    "\n",
    "Overall, we found some very significant results from our monetary analysis of the movie dataframes. \n",
    "\n",
    "1. We found that for the most part, the more money one puts into a movie the greater their profit will be. However, this isn't exponential, meaning that the profit multiple on your budget will roughly be the same whether you make a more or less expensive movie. Therefore, if stuck with a lower budget the average percent gain on investment will roughly be the same as if one invested more money into the budget.\n",
    "2. We found that in a sense the lower budget movies are a riskier investment, as there is more opportunity to have a greater percent gain. At the same time there is greater opportunity for loss. While the higher budget movies had a more stable average percent gain. If one is looking for a riskier investment with high upside they should make a lower budget movie. While if they want a more guaranteed gain on investment it pays to create a higher budget movie. \n",
    "3. We found that the distribution of gross profit is subject to the Pareto principle. Meaning that a vast minority of movies are making most of the industries profit. \n",
    "4. If one is looking to make the largest gross amount of money the best investment on average is to create a high budget action movie. However, if one is looking for the best investment on average, or if stuck with a lower budget, the best option is to create a horror movie as this genre had over double the percent gain on ones investment.\n",
    "\n",
    "We then moved on, and looked at non-monetary metrics for success, and found some interesting results.\n",
    "\n",
    "1. We found that there is basically no correlation between ratings and runtime. Therefore, when making a film, one shouldn't focus on the length of the movie but rather the quality.\n",
    "2. We found that on average drama and romance are the highest rated genres, followed by comedy and action, with horror in last. As such, if one wants to create a highly rated film, they should make a feel-good drama/ romantic movie. \n",
    "3. Lastly, we found that there is very little correlation between gross profit and ratings. This is a meaningful finding, as it teaches us that when focused on making a movie, one has to choose what their metric for success is before making the movie. If they want to make a large profit they will have to focus on very different things then if they were trying to make a movie with high ratings."
   ]
  }
 ],
 "metadata": {
  "kernelspec": {
   "display_name": "Python 3",
   "language": "python",
   "name": "python3"
  },
  "language_info": {
   "codemirror_mode": {
    "name": "ipython",
    "version": 3
   },
   "file_extension": ".py",
   "mimetype": "text/x-python",
   "name": "python",
   "nbconvert_exporter": "python",
   "pygments_lexer": "ipython3",
   "version": "3.8.5"
  }
 },
 "nbformat": 4,
 "nbformat_minor": 4
}
