{
 "cells": [
  {
   "cell_type": "code",
   "execution_count": null,
   "metadata": {},
   "outputs": [],
   "source": [
    "a = \"\"\"\n",
    "Select movie, genres, averagerating, production_budget, domestic_gross, worldwide_gross,\n",
    "round(worldwide_gross*1.0/production_budget*1.0,2) as gross_vs_budget\n",
    "from movie_stats\n",
    "Where genres like '%Drama%'\n",
    "\"\"\"\n",
    "b = \"\"\"\n",
    "Select movie, genres, averagerating, production_budget, domestic_gross, worldwide_gross,\n",
    "round(worldwide_gross*1.0/production_budget*1.0,2) as gross_vs_budget\n",
    "from movie_stats\n",
    "Where genres like '%Horror%'\n",
    "\"\"\"\n",
    "c = \"\"\"\n",
    "Select movie, genres, averagerating, production_budget, domestic_gross, worldwide_gross,\n",
    "round(worldwide_gross*1.0/production_budget*1.0,2) as gross_vs_budget\n",
    "from movie_stats\n",
    "Where genres like '%Comedy%'\n",
    "\"\"\"\n",
    "d = \"\"\"\n",
    "Select movie, genres, averagerating, production_budget, domestic_gross, worldwide_gross,\n",
    "round(worldwide_gross*1.0/production_budget*1.0,2) as gross_vs_budget\n",
    "from movie_stats\n",
    "Where genres like '%Action%'\n",
    "\"\"\"\n",
    "e = \"\"\"\n",
    "Select movie, genres, averagerating, production_budget, domestic_gross, worldwide_gross,\n",
    "round(worldwide_gross*1.0/production_budget*1.0,2) as gross_vs_budget\n",
    "from movie_stats\n",
    "Where genres like '%Romance%'\n",
    "\"\"\"\n",
    "df_drama = pysqldf(a)\n",
    "df_horror = pysqldf(b)\n",
    "df_comedy = pysqldf(c)\n",
    "df_action = pysqldf(d)\n",
    "df_romance = pysqldf(e)\n",
    "\n",
    "df_drama.head()"
   ]
  },
  {
   "cell_type": "code",
   "execution_count": null,
   "metadata": {},
   "outputs": [],
   "source": [
    "# a = \"\"\"\n",
    "# Select  worldwide_gross\n",
    "# from movie_stats\n",
    "# Where genres like '%Drama%'\n",
    "# \"\"\"\n",
    "# b = \"\"\"\n",
    "# Select  worldwide_gross\n",
    "# from movie_stats\n",
    "# Where genres like '%Horror%'\n",
    "# \"\"\"\n",
    "# c = \"\"\"\n",
    "# Select  worldwide_gross\n",
    "# from movie_stats\n",
    "# Where genres like '%Comedy%'\n",
    "# \"\"\"\n",
    "# d = \"\"\"\n",
    "# Select  worldwide_gross\n",
    "# from movie_stats\n",
    "# Where genres like '%Action%'\n",
    "# \"\"\"\n",
    "# e = \"\"\"\n",
    "# Select  worldwide_gross\n",
    "# from movie_stats\n",
    "# Where genres like '%Romance%'\n",
    "# \"\"\"\n"
   ]
  },
  {
   "cell_type": "code",
   "execution_count": null,
   "metadata": {},
   "outputs": [],
   "source": [
    "\n",
    "\n",
    "romance = pysqldf(j)\n",
    "romance.iat[0,0]='Romance'"
   ]
  },
  {
   "cell_type": "code",
   "execution_count": null,
   "metadata": {},
   "outputs": [],
   "source": [
    "pop.drop_duplicates(subset = 'movie', keep=False, inplace=True)\n",
    "pop.duplicated(keep=False).value_counts()"
   ]
  },
  {
   "cell_type": "code",
   "execution_count": null,
   "metadata": {},
   "outputs": [],
   "source": [
    "original_title, start_year, runtime_minutes, genres, averagerating"
   ]
  },
  {
   "cell_type": "code",
   "execution_count": null,
   "metadata": {},
   "outputs": [],
   "source": [
    "data = pd.DataFrame({'Drama': Drama_rating,\n",
    "                     'Horror':Horror_rating,\n",
    "                     'Comedy':Comedy_rating,\n",
    "                     'Action':Action_rating,\n",
    "                     'Romance':Romance_rating})\n",
    "data.head()"
   ]
  },
  {
   "cell_type": "code",
   "execution_count": null,
   "metadata": {},
   "outputs": [],
   "source": [
    "data.plot.kde()"
   ]
  },
  {
   "cell_type": "code",
   "execution_count": null,
   "metadata": {},
   "outputs": [],
   "source": [
    "fig, ax = plt.subplots(figsize = (15,5))\n",
    "i=.2\n",
    "for g,u,c in zip(genre_rating, upper_txt_genres, colors ):\n",
    "    i=i+.1\n",
    "    ax.hist(\n",
    "        x=g,\n",
    "        label=u,\n",
    "        color=c,\n",
    "        alpha=i \n",
    ")"
   ]
  },
  {
   "cell_type": "code",
   "execution_count": null,
   "metadata": {},
   "outputs": [],
   "source": [
    "for l,a in zip(lower_txt_genres, all_genres):\n",
    "    print('The average rating for {} films is:'.format(l), round(a.averagerating.mean(), 2))"
   ]
  },
  {
   "cell_type": "code",
   "execution_count": null,
   "metadata": {},
   "outputs": [],
   "source": [
    "Action = df_action\n",
    "Comedy = df_comedy\n",
    "Drama = df_drama\n",
    "Horror = df_horror\n",
    "Romance = df_romance\n",
    "\n",
    "df_action.genres = 'Action'\n",
    "df_comedy.genres = 'Comedy'\n",
    "df_drama.genres = 'Drama'\n",
    "df_horror.genres = 'Horror'\n",
    "df_romance.genres = 'Romance'\n"
   ]
  },
  {
   "cell_type": "code",
   "execution_count": null,
   "metadata": {},
   "outputs": [],
   "source": [
    "# upper_txt_genres=['Drama', 'Horror', 'Comedy', 'Action', 'Romance']\n",
    "# letters = [f,g,h,i,j]\n",
    "# genres = [action, comedy, drama, horror, romance]\n",
    "\n",
    "# for letter, txt, genre  in zip(letters, upper_txt_genres, genres):\n",
    "#     genre = pysqldf(letter)\n",
    "#     genre.iat[0,0]= txt\n",
    "\n",
    "# action.head()"
   ]
  },
  {
   "cell_type": "code",
   "execution_count": null,
   "metadata": {},
   "outputs": [],
   "source": [
    "drama_multiple = df_drama.gross_vs_budget\n",
    "horror_multiple = df_horror.gross_vs_budget\n",
    "comedy_multiple = df_comedy.gross_vs_budget\n",
    "action_multiple = df_action.gross_vs_budget\n",
    "romance_multiple = df_romance.gross_vs_budget\n",
    "\n",
    "print('The profit multiple for drama is:', round(drama_multiple.mean(),2))\n",
    "print('The profit multiple for horror is:', round(horror_multiple.mean(),2))\n",
    "print('The profit multiple for comedy is:', round(comedy_multiple.mean(),2))\n",
    "print('The profit multiple for action is:', round(action_multiple.mean(),2))\n",
    "print('The profit multiple for romance is:', round(romance_multiple.mean(),2))\n",
    "\n",
    "print(len(horror_multiple))"
   ]
  },
  {
   "cell_type": "code",
   "execution_count": null,
   "metadata": {},
   "outputs": [],
   "source": [
    "f = \"\"\"\n",
    "Select movie as genre, avg(production_budget) as average_budget, \n",
    "avg(worldwide_gross) as average_gross, \n",
    "round(avg(worldwide_gross)*1.0/avg(production_budget)*1.0,2) as gross_vs_budget, count(movie) as Movies\n",
    "from movie_stats\n",
    "Where genres like '%Action%'\n",
    "\"\"\"\n",
    "action = pysqldf(f)\n",
    "action.iat[0,0]='Action'\n",
    "\n",
    "g = \"\"\"\n",
    "Select movie as genre, avg(production_budget) as average_budget, \n",
    "avg(worldwide_gross) as average_gross,\n",
    "round(avg(worldwide_gross)*1.0/avg(production_budget)*1.0,2) as gross_vs_budget, count(movie) as Movies\n",
    "from movie_stats\n",
    "Where genres like '%Comedy%'\n",
    "\"\"\"\n",
    "comedy = pysqldf(g)\n",
    "comedy.iat[0,0]='Comedy'\n",
    "h = \"\"\"\n",
    "Select movie as genre, avg(production_budget) as average_budget, \n",
    "avg(worldwide_gross) as average_gross, \n",
    "round(avg(worldwide_gross)*1.0/avg(production_budget)*1.0,2) as gross_vs_budget, count(movie) as Movies\n",
    "from movie_stats\n",
    "Where genres like '%Drama%'\n",
    "\"\"\"\n",
    "drama = pysqldf(h)\n",
    "drama.iat[0,0]='Drama'\n",
    "i = \"\"\"\n",
    "Select movie as genre, avg(production_budget) as average_budget,\n",
    "avg(worldwide_gross) as average_gross, \n",
    "round(avg(worldwide_gross)*1.0/avg(production_budget)*1.0,2) as gross_vs_budget, count(movie) as Movies\n",
    "from movie_stats\n",
    "Where genres like '%Horror%'\n",
    "\"\"\"\n",
    "horror = pysqldf(i)\n",
    "horror.iat[0,0]='Horror'\n",
    "j = \"\"\"\n",
    "Select movie as genre, avg(production_budget) as average_budget, \n",
    "avg(worldwide_gross) as average_gross, \n",
    "round(avg(worldwide_gross)*1.0/avg(production_budget)*1.0,2) as gross_vs_budget, count(movie) as Movies\n",
    "from movie_stats\n",
    "Where genres like '%Romance%'\n",
    "\"\"\"\n",
    "romance = pysqldf(j)\n",
    "romance.iat[0,0]='Romance'\n",
    "\n",
    "romance.head()\n",
    "\n",
    "\n",
    "\n",
    "pd.concat([action, comedy, drama, horror, romance])"
   ]
  },
  {
   "cell_type": "code",
   "execution_count": null,
   "metadata": {},
   "outputs": [],
   "source": []
  },
  {
   "cell_type": "code",
   "execution_count": null,
   "metadata": {},
   "outputs": [],
   "source": []
  },
  {
   "cell_type": "code",
   "execution_count": null,
   "metadata": {},
   "outputs": [],
   "source": []
  },
  {
   "cell_type": "code",
   "execution_count": null,
   "metadata": {},
   "outputs": [],
   "source": []
  }
 ],
 "metadata": {
  "kernelspec": {
   "display_name": "Python 3",
   "language": "python",
   "name": "python3"
  },
  "language_info": {
   "codemirror_mode": {
    "name": "ipython",
    "version": 3
   },
   "file_extension": ".py",
   "mimetype": "text/x-python",
   "name": "python",
   "nbconvert_exporter": "python",
   "pygments_lexer": "ipython3",
   "version": "3.8.5"
  }
 },
 "nbformat": 4,
 "nbformat_minor": 4
}
